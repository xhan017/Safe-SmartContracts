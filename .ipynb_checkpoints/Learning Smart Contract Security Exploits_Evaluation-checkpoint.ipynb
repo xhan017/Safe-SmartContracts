{
 "cells": [
  {
   "cell_type": "markdown",
   "metadata": {},
   "source": [
    "# Post-Review-Synthetic-Data-V3 Evaluation"
   ]
  },
  {
   "cell_type": "code",
   "execution_count": 1,
   "metadata": {},
   "outputs": [
    {
     "name": "stderr",
     "output_type": "stream",
     "text": [
      "Using TensorFlow backend.\n"
     ]
    }
   ],
   "source": [
    "# This Python 3 environment comes with many helpful analytics libraries installed\n",
    "\n",
    "import numpy as np # linear algebra\n",
    "import pandas as pd # data processing, CSV file I/O (e.g. pd.read_csv)\n",
    "from keras.layers import Dense, Embedding, LSTM, SpatialDropout1D\n",
    "from keras.models import Sequential\n",
    "from sklearn.feature_extraction.text import CountVectorizer\n",
    "from keras.preprocessing.text import Tokenizer\n",
    "from keras.preprocessing.sequence import pad_sequences\n",
    "from sklearn.model_selection import train_test_split\n",
    "from keras.utils.np_utils import to_categorical\n",
    "from keras.callbacks import EarlyStopping\n",
    "\n",
    "# Input data files are available in the \"./input_data/\" directory.\n",
    "import os\n",
    "# print(os.listdir(\"./input_data/final\"))\n",
    "os.environ[\"CUDA_DEVICE_ORDER\"]=\"PCI_BUS_ID\"\n",
    "os.environ[\"CUDA_VISIBLE_DEVICES\"]=\"0\"  # specify which GPU(s) to be used\n",
    "import matplotlib.pyplot as plt\n",
    "%matplotlib inline\n",
    "from pandas.tools.plotting import table"
   ]
  },
  {
   "cell_type": "markdown",
   "metadata": {},
   "source": [
    "### Defining functions"
   ]
  },
  {
   "cell_type": "code",
   "execution_count": 2,
   "metadata": {},
   "outputs": [],
   "source": [
    "def label(df):    \n",
    "    # label data\n",
    "    df['LABEL'] = 0\n",
    "    df.loc[df['CATEGORY'] == '1 0 0 0', 'LABEL'] = 0\n",
    "    df.loc[df['CATEGORY'] != '1 0 0 0', 'LABEL'] = 1\n",
    "    \n",
    "def preprocess(df):\n",
    "    n_most_common_words = 1000 #8000\n",
    "    max_len = 130\n",
    "\n",
    "    # Class Tokenizer - This class allows to vectorize a text corpus, by turning each text into either a sequence of integers (each integer being the index of a token in a dictionary)\n",
    "    # tokenizer = Tokenizer(num_words=n_most_common_words, filters='!\"#$%&()*+,-./:;<=>?@[\\]^_`{|}~', lower=True)\n",
    "    tokenizer = Tokenizer(num_words=n_most_common_words, lower=False)\n",
    "\n",
    "    # fit_on_texts - Updates internal vocabulary based on a list of texts. In the case where texts contains lists, we assume each entry of the lists to be a token.\n",
    "    # tokenizer.fit_on_texts(increased_vul['OPCODE'].values)\n",
    "    tokenizer.fit_on_texts(df['OPCODE'].values)\n",
    "\n",
    "    # # Transforms each text in texts in a sequence of integers.\n",
    "    sequences = tokenizer.texts_to_sequences(df['OPCODE'].values)\n",
    "    # sequences = tokenizer.texts_to_sequences(tt)\n",
    "\n",
    "    #Find number of unique words/tokens\n",
    "    word_index = tokenizer.word_index\n",
    "    print('Found %s unique tokens.' % len(word_index))\n",
    "\n",
    "    #pad sequences with zeros in front to make them all maxlen\n",
    "    X = pad_sequences(sequences, maxlen=max_len)\n",
    "    return X\n",
    "\n",
    "def dftoXY(df):\n",
    "    # Save test X and y\n",
    "    X_test = preprocess(df)\n",
    "    # label data\n",
    "    label(df)\n",
    "#     df['LABEL'] = 0\n",
    "#     df.loc[df['CATEGORY'] == '1 0 0 0', 'LABEL'] = 0\n",
    "#     df.loc[df['CATEGORY'] != '1 0 0 0', 'LABEL'] = 1\n",
    "    print(pd.value_counts(df['LABEL']))\n",
    "    y_test = to_categorical(df['LABEL'], num_classes=2)\n",
    "    return X_test, y_test    \n",
    "\n",
    "def XandY(posdf, negdf):\n",
    "    dfset = pd.concat([posdf, negdf])\n",
    "    dfset = dfset.sample(frac=1, random_state=39, replace=False)\n",
    "\n",
    "    dfset['LABEL'] = 0\n",
    "\n",
    "    #One-hot encode the lab\n",
    "    dfset.loc[dfset['CATEGORY'] == '1 0 0 0', 'LABEL'] = 0\n",
    "    dfset.loc[dfset['CATEGORY'] != '1 0 0 0', 'LABEL'] = 1\n",
    "    # df_train.head()\n",
    "\n",
    "    X, y = dftoXY(dfset)\n",
    "\n",
    "    print('Shape of X: {}'.format(X.shape))\n",
    "\n",
    "    # for sm.fit_sample\n",
    "    y_labels = np.expand_dims(np.array(np.argmax(y, axis=1)), axis=1)\n",
    "    print('Shape of y: {}'.format(y_labels.shape))\n",
    "\n",
    "    return X, y_labels"
   ]
  },
  {
   "cell_type": "markdown",
   "metadata": {},
   "source": [
    "# Saving and Loading Trained Model"
   ]
  },
  {
   "cell_type": "code",
   "execution_count": 63,
   "metadata": {},
   "outputs": [],
   "source": [
    "model_name = \"v3_550KLSTM64epoch100train0.64drop0.55\"\n",
    "\n",
    "# \"v3_550KLSTM64epoch100train0.64drop0.5\""
   ]
  },
  {
   "cell_type": "raw",
   "metadata": {},
   "source": [
    "# Save model to models folder \n",
    "model.save('./saved_model/less_imbal/'+ '6k_40k' + '.h5')"
   ]
  },
  {
   "cell_type": "code",
   "execution_count": 4,
   "metadata": {},
   "outputs": [],
   "source": [
    "# loading previously saved model\n",
    "from keras.models import load_model\n",
    "# model = load_model('./saved_model/less_imbal2/'+'9x_450k.h5')\n",
    "model = load_model('./saved_model/postreviewV3/'+ 'train' + model_name + '.h5')"
   ]
  },
  {
   "cell_type": "markdown",
   "metadata": {},
   "source": [
    "# Plot Performance"
   ]
  },
  {
   "cell_type": "code",
   "execution_count": 5,
   "metadata": {},
   "outputs": [],
   "source": [
    "import pickle\n",
    "infile = open('./saved_model/postreviewV3/' + 'train' + model_name ,'rb')\n",
    "history0 = pickle.load(infile)\n",
    "infile.close()"
   ]
  },
  {
   "cell_type": "code",
   "execution_count": 6,
   "metadata": {
    "scrolled": true
   },
   "outputs": [
    {
     "data": {
      "text/plain": [
       "<matplotlib.legend.Legend at 0x7f99041fc3c8>"
      ]
     },
     "execution_count": 6,
     "metadata": {},
     "output_type": "execute_result"
    },
    {
     "data": {
      "image/png": "[encoded data removed]",
      "text/plain": [
       "<Figure size 432x288 with 1 Axes>"
      ]
     },
     "metadata": {},
     "output_type": "display_data"
    }
   ],
   "source": [
    "# acc = history.history['acc']\n",
    "# val_acc = history.history['val_acc']\n",
    "# loss = history.history['loss']\n",
    "# val_loss = history.history['val_loss']\n",
    "\n",
    "acc = history0['acc']\n",
    "val_acc = history0['val_acc']\n",
    "loss = history0['loss']\n",
    "val_loss = history0['val_loss']\n",
    "\n",
    "\n",
    "epochs = range(1, len(acc) + 1)\n",
    "\n",
    "fig = plt.figure()\n",
    "plt.xlabel('Epochs')\n",
    "plt.ylabel('Accuracy')\n",
    "plt.plot(epochs, acc, 'bo', label='Training acc')\n",
    "plt.plot(epochs, val_acc, 'b', label='Validation acc')\n",
    "plt.title('Training and validation accuracy')\n",
    "plt.legend()\n",
    "\n",
    "# fig.savefig('./figures/postreviewV3/Accr_trainandval_' + model_name + '.png',dpi=300)"
   ]
  },
  {
   "cell_type": "code",
   "execution_count": 7,
   "metadata": {},
   "outputs": [
    {
     "data": {
      "image/png": "[encoded data removed]",
      "text/plain": [
       "<Figure size 432x288 with 1 Axes>"
      ]
     },
     "metadata": {},
     "output_type": "display_data"
    }
   ],
   "source": [
    "fig = plt.figure()\n",
    "plt.xlabel('Epochs')\n",
    "plt.ylabel('Loss')\n",
    "plt.plot(epochs, loss, 'bo', label='Training loss')\n",
    "plt.plot(epochs, val_loss, 'b', label='Validation loss')\n",
    "plt.title('Training and validation loss')\n",
    "plt.legend()\n",
    "\n",
    "plt.show()\n",
    "# fig.savefig('./figures/postreviewV3/Loss_trainandval_' + model_name + '.png',dpi=300)"
   ]
  },
  {
   "cell_type": "markdown",
   "metadata": {},
   "source": [
    "# Collecting and saving flagged negatives for validation"
   ]
  },
  {
   "cell_type": "code",
   "execution_count": 8,
   "metadata": {},
   "outputs": [
    {
     "name": "stdout",
     "output_type": "stream",
     "text": [
      "1 0 0 0    24898\n",
      "Name: CATEGORY, dtype: int64\n"
     ]
    }
   ],
   "source": [
    "norm_check = pd.read_pickle('./saved_model/postreviewV3/'+ 'neg_notused_' + model_name + '.pkl')\n",
    "print(pd.value_counts(norm_check['CATEGORY']))\n",
    "\n",
    "num_check = 10000\n",
    "norm_check = norm_check.sample(num_check, random_state=39, replace=False)\n",
    "\n",
    "checkset = pd.concat([norm_check], ignore_index=True)\n",
    "checkset = checkset.sample(frac=1, random_state=39, replace=False)"
   ]
  },
  {
   "cell_type": "code",
   "execution_count": 9,
   "metadata": {},
   "outputs": [
    {
     "name": "stdout",
     "output_type": "stream",
     "text": [
      "Found 150 unique tokens.\n",
      "0    10000\n",
      "Name: LABEL, dtype: int64\n",
      "10000/10000 [==============================] - 23s 2ms/step\n",
      "Tr test set\n",
      "  Loss: 0.1366\n",
      "  Accuracy: 0.9636\n"
     ]
    }
   ],
   "source": [
    "X_check, y_check = dftoXY(checkset) \n",
    "checkset_accr = model.evaluate(X_check,y_check)\n",
    "print('Tr test set\\n  Loss: {:0.4f}\\n  Accuracy: {:0.4f}'.format(checkset_accr[0],checkset_accr[1]))"
   ]
  },
  {
   "cell_type": "code",
   "execution_count": 10,
   "metadata": {},
   "outputs": [
    {
     "name": "stdout",
     "output_type": "stream",
     "text": [
      "10000/10000 [==============================] - 23s 2ms/step\n"
     ]
    }
   ],
   "source": [
    "pred_neg = model.predict(X_check, verbose=1)"
   ]
  },
  {
   "cell_type": "code",
   "execution_count": 12,
   "metadata": {},
   "outputs": [
    {
     "name": "stdout",
     "output_type": "stream",
     "text": [
      "Percentage of Negatives Flagged: 0.0364\n",
      "Number of Contracts Flagged: 364\n"
     ]
    }
   ],
   "source": [
    "predneg = np.count_nonzero(pred_neg[:,1] > 0.5)\n",
    "predneg_accr = predneg / len(pred_neg)\n",
    "print('Percentage of Negatives Flagged: {:0.4f}'.format(predneg_accr))\n",
    "\n",
    "LSTM_pos = np.nonzero(pred_neg[:,1] > 0.5)\n",
    "np.array(np.nonzero(pred_neg[:,1] > 0.5)).shape\n",
    "\n",
    "# Saving flagged contracts to csv file\n",
    "lstm_Negflagged = norm_check.iloc[LSTM_pos]\n",
    "print('Number of Contracts Flagged:', len(lstm_Negflagged))\n",
    "\n",
    "# lstm_Negflagged.to_csv ('./output_data/postreviewV3/lstm_flaggedNeg.csv', index = None, header=True)"
   ]
  },
  {
   "cell_type": "code",
   "execution_count": 13,
   "metadata": {},
   "outputs": [
    {
     "name": "stdout",
     "output_type": "stream",
     "text": [
      "Number of Contracts Unflagged: 9636\n"
     ]
    }
   ],
   "source": [
    "# Saving unflagged contracts to csv file\n",
    "LSTM_neg = np.nonzero(pred_neg[:,1] <= 0.5)\n",
    "lstm_unflagged = norm_check.iloc[LSTM_neg]\n",
    "print('Number of Contracts Unflagged:', len(lstm_unflagged))\n",
    "\n",
    "# lstm_unflagged.to_csv ('./output_data/postreviewV3/lstm_unflagged.csv', index = None, header=True)"
   ]
  },
  {
   "cell_type": "code",
   "execution_count": 14,
   "metadata": {},
   "outputs": [
    {
     "data": {
      "text/plain": [
       "Text(0.5,1,'Distribution of LSTM Prediction on Unflagged Contracts')"
      ]
     },
     "execution_count": 14,
     "metadata": {},
     "output_type": "execute_result"
    },
    {
     "data": {
      "image/png": "[encoded data removed]",
      "text/plain": [
       "<Figure size 432x288 with 1 Axes>"
      ]
     },
     "metadata": {},
     "output_type": "display_data"
    }
   ],
   "source": [
    "fig = plt.figure()\n",
    "plt.hist(pred_neg[:,1])\n",
    "plt.xlabel('Prediction (less than 0.5 (Not vulnerable), greater than 0.5 (Vulnerable))')\n",
    "plt.ylabel('Number of samples')\n",
    "plt.title('Distribution of LSTM Prediction on Unflagged Contracts')\n",
    "\n",
    "# fig.savefig('./figures/postreviewV3/lstm_10KflaggedNeg_' + model_name + '.png',dpi=300)"
   ]
  },
  {
   "cell_type": "code",
   "execution_count": null,
   "metadata": {},
   "outputs": [],
   "source": []
  },
  {
   "cell_type": "code",
   "execution_count": null,
   "metadata": {},
   "outputs": [],
   "source": []
  },
  {
   "cell_type": "markdown",
   "metadata": {},
   "source": [
    "# All test FPs"
   ]
  },
  {
   "cell_type": "markdown",
   "metadata": {},
   "source": [
    "### Loading the dataset"
   ]
  },
  {
   "cell_type": "code",
   "execution_count": 15,
   "metadata": {},
   "outputs": [],
   "source": [
    "# Loading and reading csv input data \n",
    "\n",
    "# all_testset = 'clean_test_allFP_noDups.csv'\n",
    "leakFP = 'clean_test_leakFP_noDups.csv'\n",
    "suicidalFP = 'clean_test_suicidalFP_noDups.csv'\n",
    "greedyFP = 'clean_test_greedyFP_noDups.csv'\n",
    "\n",
    "leakFP_test = pd.read_csv('./input_data/final/no_duplicates/'+leakFP, usecols=['ADDRESS', 'OPCODE', 'CATEGORY'])\n",
    "suicidalFP_test = pd.read_csv('./input_data/final/no_duplicates/'+suicidalFP, usecols=['ADDRESS', 'OPCODE', 'CATEGORY'])\n",
    "greedyFP_test = pd.read_csv('./input_data/final/no_duplicates/'+greedyFP, usecols=['ADDRESS', 'OPCODE', 'CATEGORY'])\n",
    "\n",
    "# leakFP_test.head()"
   ]
  },
  {
   "cell_type": "code",
   "execution_count": 16,
   "metadata": {
    "scrolled": true
   },
   "outputs": [
    {
     "name": "stdout",
     "output_type": "stream",
     "text": [
      "Found 150 unique tokens.\n",
      "0    177\n",
      "Name: LABEL, dtype: int64\n",
      "177/177 [==============================] - 0s 2ms/step\n",
      "Leak test set\n",
      "  Loss: 11.2112\n",
      "  Accuracy: 0.0000\n",
      "Found 147 unique tokens.\n",
      "0    72\n",
      "Name: LABEL, dtype: int64\n",
      "72/72 [==============================] - 0s 3ms/step\n",
      "Suicidal test set\n",
      "  Loss: 12.5906\n",
      "  Accuracy: 0.0000\n",
      "Found 150 unique tokens.\n",
      "0    202\n",
      "Name: LABEL, dtype: int64\n",
      "202/202 [==============================] - 1s 2ms/step\n",
      "Greedy test set\n",
      "  Loss: 10.3249\n",
      "  Accuracy: 0.0000\n"
     ]
    }
   ],
   "source": [
    "X_leakFP, y_leakFP = dftoXY(leakFP_test)\n",
    "leakFP_accr = model.evaluate(X_leakFP,y_leakFP)\n",
    "print('Leak test set\\n  Loss: {:0.4f}\\n  Accuracy: {:0.4f}'.format(leakFP_accr[0],leakFP_accr[1]))\n",
    "\n",
    "X_suicidalFP, y_suicidalFP = dftoXY(suicidalFP_test)\n",
    "suicidalFP_accr = model.evaluate(X_suicidalFP,y_suicidalFP)\n",
    "print('Suicidal test set\\n  Loss: {:0.4f}\\n  Accuracy: {:0.4f}'.format(suicidalFP_accr[0],suicidalFP_accr[1]))\n",
    "\n",
    "X_greedyFP, y_greedyFP = dftoXY(greedyFP_test)\n",
    "greedyFP_accr = model.evaluate(X_greedyFP,y_greedyFP)\n",
    "print('Greedy test set\\n  Loss: {:0.4f}\\n  Accuracy: {:0.4f}'.format(greedyFP_accr[0],greedyFP_accr[1]))"
   ]
  },
  {
   "cell_type": "code",
   "execution_count": null,
   "metadata": {},
   "outputs": [],
   "source": []
  },
  {
   "cell_type": "markdown",
   "metadata": {},
   "source": [
    "# ADDED Evaluation Measures"
   ]
  },
  {
   "cell_type": "markdown",
   "metadata": {},
   "source": [
    "### Saving and Loading Trained Model"
   ]
  },
  {
   "cell_type": "code",
   "execution_count": 20,
   "metadata": {},
   "outputs": [],
   "source": [
    "model_name = \"v3_550KLSTM64epoch100train0.64drop0.55\"\n",
    "# \"v3_550KLSTM64epoch100train0.64drop0.5\""
   ]
  },
  {
   "cell_type": "code",
   "execution_count": 21,
   "metadata": {},
   "outputs": [],
   "source": [
    "# loading previously saved model\n",
    "from keras.models import load_model\n",
    "# model = load_model('./saved_model/less_imbal2/'+'9x_450k.h5')\n",
    "model = load_model('./saved_model/postreviewV3/'+ 'train' + model_name + '.h5')"
   ]
  },
  {
   "cell_type": "code",
   "execution_count": 17,
   "metadata": {},
   "outputs": [
    {
     "name": "stdout",
     "output_type": "stream",
     "text": [
      "8640\n"
     ]
    }
   ],
   "source": [
    "# ============== Loading and reading csv input data ============== \n",
    "dataset = 'clean_train.csv'\n",
    "data = pd.read_csv('./input_data/final/'+dataset, usecols=['ADDRESS', 'OPCODE', 'CATEGORY'])\n",
    "\n",
    "shuffled = data\n",
    "\n",
    "n = shuffled[shuffled['CATEGORY'] == '1 0 0 0'] # no vulnerabilities\n",
    "s = shuffled[shuffled['CATEGORY'] == '0 1 0 0'] # suicidal\n",
    "p = shuffled[shuffled['CATEGORY'] == '0 0 1 0'] # prodigal\n",
    "g = shuffled[shuffled['CATEGORY'] == '0 0 0 1'] # greedy\n",
    "sp = shuffled[shuffled['CATEGORY'] == '0 1 1 0'] # suicidal and prodigal\n",
    "\n",
    "# ========== set of vul contracts ========== \n",
    "# shuffle positives dataset\n",
    "positives = pd.concat([s,p,g,sp])\n",
    "positives_shuf = positives.sample(frac=1, random_state=39, replace=False)\n",
    "print(len(positives_shuf))\n",
    "\n",
    "# split positives dataset into train, val, and test\n",
    "proportion_train = 0.64 #0.7\n",
    "proportion_val = 0.16 #0.1\n",
    "proportion_test = 0.2 #0.20\n",
    "\n",
    "num_pos_train = round(len(positives_shuf) * proportion_train)\n",
    "num_pos_val = round(len(positives_shuf) * proportion_val)\n",
    "\n",
    "pos_train = positives_shuf.iloc[0:num_pos_train] \n",
    "pos_val = positives_shuf.iloc[num_pos_train:(num_pos_train+num_pos_val)]\n",
    "pos_test = positives_shuf.iloc[(num_pos_train+num_pos_val):]"
   ]
  },
  {
   "cell_type": "code",
   "execution_count": 18,
   "metadata": {},
   "outputs": [
    {
     "name": "stdout",
     "output_type": "stream",
     "text": [
      "Number of negative samples not used:  24898\n"
     ]
    }
   ],
   "source": [
    "# ========== set of non-vul contracts ========== \n",
    "# # shuffle set n\n",
    "n_shuf = n.sample(frac=1, random_state=39, replace=False)\n",
    "\n",
    "# set number of samples in each set\n",
    "num_neg_train = 550000 #150000\n",
    "num_neg_val = round(((num_neg_train)/proportion_train)*proportion_val)\n",
    "num_neg_test = round(((num_neg_train)/proportion_train)*proportion_test)\n",
    "\n",
    "neg_train = n_shuf.iloc[0:num_neg_train]\n",
    "neg_val = n_shuf.iloc[num_neg_train:(num_neg_train+num_neg_val)]\n",
    "neg_test = n_shuf.iloc[(num_neg_train+num_neg_val):(num_neg_train+num_neg_val+num_neg_test)]\n",
    "neg_notused = n_shuf.iloc[(num_neg_train+num_neg_val+num_neg_test):]\n",
    "print(\"Number of negative samples not used: \", len(neg_notused))"
   ]
  },
  {
   "cell_type": "code",
   "execution_count": 19,
   "metadata": {},
   "outputs": [
    {
     "name": "stdout",
     "output_type": "stream",
     "text": [
      "Found 150 unique tokens.\n",
      "0    550000\n",
      "1      5530\n",
      "Name: LABEL, dtype: int64\n",
      "Shape of X: (555530, 130)\n",
      "Shape of y: (555530, 1)\n",
      "Found 150 unique tokens.\n",
      "0    137500\n",
      "1      1382\n",
      "Name: LABEL, dtype: int64\n",
      "Shape of X: (138882, 130)\n",
      "Shape of y: (138882, 1)\n",
      "Found 150 unique tokens.\n",
      "0    171875\n",
      "1      1728\n",
      "Name: LABEL, dtype: int64\n",
      "Shape of X: (173603, 130)\n",
      "Shape of y: (173603, 1)\n",
      "After OverSampling, the shape of train_X: (1100000, 130)\n",
      "After OverSampling, the shape of train_y: (1100000,)\n",
      "After OverSampling, the shape of val_X: (275000, 130)\n",
      "After OverSampling, the shape of val_y: (275000,)\n",
      "After OverSampling, the shape of test_X: (343750, 130)\n",
      "After OverSampling, the shape of test_y: (343750,) \n",
      "\n",
      "After OverSampling, counts of train label '1': 550000\n",
      "After OverSampling, counts of train label '0': 550000\n",
      "After OverSampling, counts of val label '1': 137500\n",
      "After OverSampling, counts of val label '0': 137500\n",
      "After OverSampling, counts of test label '1': 171875\n",
      "After OverSampling, counts of test label '0': 171875\n"
     ]
    }
   ],
   "source": [
    "### ============ Resampling samples ============ ###\n",
    "# Prepare train set \n",
    "X_train, ytrain_labels = XandY(pos_train, neg_train)\n",
    "# Prepare validation set \n",
    "X_val, yval_labels = XandY(pos_val, neg_val)\n",
    "# Prepare test set \n",
    "X_test, ytest_labels = XandY(pos_test, neg_test)\n",
    "\n",
    "# ============ Resample ============ \n",
    "from imblearn.over_sampling import SMOTE\n",
    "\n",
    "sm = SMOTE(random_state=39)\n",
    "X_train_res, y_train_res = sm.fit_sample(X_train, ytrain_labels.ravel())\n",
    "X_val_res, y_val_res = sm.fit_sample(X_val, yval_labels.ravel())\n",
    "X_test_res, y_test_res = sm.fit_sample(X_test, ytest_labels.ravel())\n",
    "\n",
    "print('After OverSampling, the shape of train_X: {}'.format(X_train_res.shape))\n",
    "print('After OverSampling, the shape of train_y: {}'.format(y_train_res.shape))\n",
    "print('After OverSampling, the shape of val_X: {}'.format(X_val_res.shape))\n",
    "print('After OverSampling, the shape of val_y: {}'.format(y_val_res.shape))\n",
    "print('After OverSampling, the shape of test_X: {}'.format(X_test_res.shape))\n",
    "print('After OverSampling, the shape of test_y: {} \\n'.format(y_test_res.shape))\n",
    "\n",
    "print(\"After OverSampling, counts of train label '1': {}\".format(sum(y_train_res==1)))\n",
    "print(\"After OverSampling, counts of train label '0': {}\".format(sum(y_train_res==0)))\n",
    "print(\"After OverSampling, counts of val label '1': {}\".format(sum(y_val_res==1)))\n",
    "print(\"After OverSampling, counts of val label '0': {}\".format(sum(y_val_res==0)))\n",
    "print(\"After OverSampling, counts of test label '1': {}\".format(sum(y_test_res==1)))\n",
    "print(\"After OverSampling, counts of test label '0': {}\".format(sum(y_test_res==0)))"
   ]
  },
  {
   "cell_type": "code",
   "execution_count": 23,
   "metadata": {},
   "outputs": [
    {
     "name": "stdout",
     "output_type": "stream",
     "text": [
      "343750/343750 [==============================] - 782s 2ms/step\n",
      "Test set\n",
      "  Loss: 0.0493\n",
      "  Accuracy: 0.9864\n",
      "Average Precision Score: 0.9758\n",
      "\n",
      "Recall Score: 0.9949\n",
      "\n"
     ]
    }
   ],
   "source": [
    "# ============== Evaluation ==============\n",
    "\n",
    "# Test accuracy\n",
    "ytestres_cat = to_categorical(y_test_res, num_classes=2)\n",
    "accr = model.evaluate(X_test_res, ytestres_cat)\n",
    "print('Test set\\n  Loss: {:0.4f}\\n  Accuracy: {:0.4f}'.format(accr[0],accr[1]))\n",
    "\n",
    "# To calculate precision and recall\n",
    "y_pred = model.predict_classes(X_test_res, batch_size=32, verbose=0)\n",
    "ytest_true = y_test_res\n",
    "\n",
    "from sklearn.metrics import average_precision_score\n",
    "# Compute the average precision score\n",
    "average_precision = average_precision_score(ytest_true, y_pred)\n",
    "print('Average Precision Score: {:0.4f}\\n'.format(average_precision))\n",
    "\n",
    "# Compute the recall\n",
    "from sklearn.metrics import precision_recall_curve\n",
    "from sklearn.utils.fixes import signature\n",
    "\n",
    "precision, recall, _ = precision_recall_curve(ytest_true, y_pred)\n",
    "print('Recall Score: {:0.4f}\\n'.format(recall[1]))"
   ]
  },
  {
   "cell_type": "code",
   "execution_count": 24,
   "metadata": {},
   "outputs": [],
   "source": [
    "# ============== ADDED Evaluation ==============\n",
    "from sklearn.metrics import precision_score, \\\n",
    "    recall_score, confusion_matrix, classification_report, \\\n",
    "    accuracy_score, f1_score\n",
    "\n",
    "# print('Accuracy:', accuracy_score(ytest_true, y_pred))\n",
    "# print('Recall:', recall_score(ytest_true, y_pred))\n",
    "# print('Precision:', precision_score(ytest_true, y_pred))\n",
    "# print('F1 score:', f1_score(ytest_true, y_pred))\n",
    "# print('\\n clasification report:\\n', classification_report(ytest_true, y_pred))\n",
    "# print('\\n confusion matrix:\\n',confusion_matrix(ytest_true, y_pred))"
   ]
  },
  {
   "cell_type": "code",
   "execution_count": 31,
   "metadata": {},
   "outputs": [
    {
     "name": "stdout",
     "output_type": "stream",
     "text": [
      "Accuracy: 0.9864\n",
      "\n",
      "Recall: 0.9949\n",
      "\n",
      "Precision: 0.9782\n",
      "\n",
      "F1 score: 0.9865\n",
      "\n",
      "\n",
      " confusion matrix:\n",
      " [[168066   3809]\n",
      " [   874 171001]]\n",
      "\n",
      " clasification report:\n",
      "              precision    recall  f1-score   support\n",
      "\n",
      "          0       0.99      0.98      0.99    171875\n",
      "          1       0.98      0.99      0.99    171875\n",
      "\n",
      "avg / total       0.99      0.99      0.99    343750\n",
      "\n"
     ]
    }
   ],
   "source": [
    "# The set of labels predicted for a sample must exactly match the corresponding set of labels in y_true.\n",
    "print('Accuracy: {:0.4f}\\n'.format(accuracy_score(ytest_true, y_pred)))\n",
    "# The recall is the ratio tp / (tp + fn) where tp is the number of true positives and fn the number of false negatives. The recall is intuitively the ability of the classifier to find all the positive samples.\n",
    "print('Recall: {:0.4f}\\n'.format(recall_score(ytest_true, y_pred)))\n",
    "# The precision is the ratio tp / (tp + fp) where tp is the number of true positives and fp the number of false positives. The precision is intuitively the ability of the classifier not to label as positive a sample that is negative.\n",
    "print('Precision: {:0.4f}\\n'.format(precision_score(ytest_true, y_pred)))\n",
    "# The F1 score can be interpreted as a weighted average of the precision and recall, where an F1 score reaches its best value at 1 and worst score at 0.\n",
    "print('F1 score: {:0.4f}\\n'.format(f1_score(ytest_true, y_pred)))\n",
    "\n",
    "# In binary classification, the count of true negatives is C_{0,0}, false negatives is C_{1,0}, true positives is C_{1,1} and false positives is C_{0,1}.\n",
    "print('\\n confusion matrix:\\n',confusion_matrix(ytest_true, y_pred))\n",
    "# Overview of all scores\n",
    "print('\\n clasification report:\\n', classification_report(ytest_true, y_pred))"
   ]
  },
  {
   "cell_type": "code",
   "execution_count": 50,
   "metadata": {},
   "outputs": [
    {
     "name": "stdout",
     "output_type": "stream",
     "text": [
      "ROC AUC score: 0.9864\n",
      "\n"
     ]
    }
   ],
   "source": [
    "from sklearn.metrics import roc_curve, auc, roc_auc_score    \n",
    "# Compute Receiver operating characteristic (ROC). Restricted to the binary classification task\n",
    "fpr, tpr, threshold = roc_curve(ytest_true, y_pred)\n",
    "roc_auc = auc(fpr, tpr)\n",
    "print('ROC AUC score: {:0.4f}\\n'.format(roc_auc_score(ytest_true, y_pred)))"
   ]
  },
  {
   "cell_type": "code",
   "execution_count": 66,
   "metadata": {},
   "outputs": [
    {
     "data": {
      "text/plain": [
       "Text(0.5,0,'False Positive Rate')"
      ]
     },
     "execution_count": 66,
     "metadata": {},
     "output_type": "execute_result"
    },
    {
     "data": {
      "image/png": "[encoded data removed]",
      "text/plain": [
       "<Figure size 432x288 with 1 Axes>"
      ]
     },
     "metadata": {},
     "output_type": "display_data"
    }
   ],
   "source": [
    "# method I: plt\n",
    "import matplotlib.pyplot as plt\n",
    "plt.title('Receiver Operating Characteristic')\n",
    "plt.plot(fpr, tpr, 'b', label = 'AUC = %0.2f' % roc_auc)\n",
    "plt.legend(loc = 'lower right')\n",
    "plt.plot([0, 1], [0, 1],'r--')\n",
    "plt.xlim([0, 1])\n",
    "plt.ylim([0, 1])\n",
    "plt.ylabel('True Positive Rate')\n",
    "plt.xlabel('False Positive Rate')\n",
    "## plt.show()\n",
    "# plt.savefig('./figures/postreviewV3/ROC_' + model_name + '.png', dpi=300)"
   ]
  },
  {
   "cell_type": "code",
   "execution_count": 67,
   "metadata": {},
   "outputs": [
    {
     "data": {
      "image/png": "[encoded data removed]",
      "text/plain": [
       "<Figure size 432x288 with 1 Axes>"
      ]
     },
     "metadata": {},
     "output_type": "display_data"
    }
   ],
   "source": [
    "plt.figure()\n",
    "lw = 2\n",
    "plt.plot(fpr, tpr, color='darkorange',\n",
    "         lw=lw, label='ROC curve (area = %0.2f)' % roc_auc)\n",
    "plt.plot([0, 1], [0, 1], color='navy', lw=lw, linestyle='--')\n",
    "plt.xlim([0.0, 1.0])\n",
    "plt.ylim([0.0, 1.05])\n",
    "plt.xlabel('False Positive Rate')\n",
    "plt.ylabel('True Positive Rate')\n",
    "plt.title('Receiver Operating Characteristic')\n",
    "plt.legend(loc=\"lower right\")\n",
    "## plt.show()\n",
    "plt.savefig('./figures/postreviewV3/ROCnice_' + model_name + '.png',dpi=300)"
   ]
  },
  {
   "cell_type": "code",
   "execution_count": null,
   "metadata": {},
   "outputs": [],
   "source": []
  }
 ],
 "metadata": {
  "kernelspec": {
   "display_name": "Python 3",
   "language": "python",
   "name": "python3"
  },
  "language_info": {
   "codemirror_mode": {
    "name": "ipython",
    "version": 3
   },
   "file_extension": ".py",
   "mimetype": "text/x-python",
   "name": "python",
   "nbconvert_exporter": "python",
   "pygments_lexer": "ipython3",
   "version": "3.6.4"
  }
 },
 "nbformat": 4,
 "nbformat_minor": 2
}
