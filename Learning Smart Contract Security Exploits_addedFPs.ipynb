{
 "cells": [
  {
   "cell_type": "markdown",
   "metadata": {},
   "source": [
    "# Post-Review-Synthetic-Data-V4.1_addedFPs"
   ]
  },
  {
   "cell_type": "code",
   "execution_count": 1,
   "metadata": {},
   "outputs": [
    {
     "name": "stderr",
     "output_type": "stream",
     "text": [
      "Using TensorFlow backend.\n"
     ]
    },
    {
     "name": "stdout",
     "output_type": "stream",
     "text": [
      "['clean_test_allFP.csv', 'clean_test_greedyFP.csv', 'clean_test_leakFP.csv', 'clean_test_suicidalFP.csv', 'clean_train.csv', 'LsMa', 'no_duplicates', 'old_no_duplicates']\n"
     ]
    }
   ],
   "source": [
    "# This Python 3 environment comes with many helpful analytics libraries installed\n",
    "\n",
    "import numpy as np # linear algebra\n",
    "import pandas as pd # data processing, CSV file I/O (e.g. pd.read_csv)\n",
    "from keras.layers import Dense, Embedding, LSTM, SpatialDropout1D\n",
    "from keras.models import Sequential\n",
    "from sklearn.feature_extraction.text import CountVectorizer\n",
    "from keras.preprocessing.text import Tokenizer\n",
    "from keras.preprocessing.sequence import pad_sequences\n",
    "from sklearn.model_selection import train_test_split\n",
    "from keras.utils.np_utils import to_categorical\n",
    "from keras.callbacks import EarlyStopping\n",
    "\n",
    "# Input data files are available in the \"./input_data/\" directory.\n",
    "import os\n",
    "print(os.listdir(\"./input_data/final\"))\n",
    "os.environ[\"CUDA_DEVICE_ORDER\"]=\"PCI_BUS_ID\"\n",
    "os.environ[\"CUDA_VISIBLE_DEVICES\"]=\"0\"  # specify which GPU(s) to be used\n",
    "import matplotlib.pyplot as plt\n",
    "%matplotlib inline\n",
    "from pandas.tools.plotting import table"
   ]
  },
  {
   "cell_type": "markdown",
   "metadata": {},
   "source": [
    "### Defining functions"
   ]
  },
  {
   "cell_type": "code",
   "execution_count": 2,
   "metadata": {},
   "outputs": [],
   "source": [
    "def label(df):    \n",
    "    # label data\n",
    "    df['LABEL'] = 0\n",
    "    df.loc[df['CATEGORY'] == '1 0 0 0', 'LABEL'] = 0\n",
    "    df.loc[df['CATEGORY'] != '1 0 0 0', 'LABEL'] = 1\n",
    "    \n",
    "def preprocess(df):\n",
    "    n_most_common_words = 1000 #8000\n",
    "    max_len = 130\n",
    "\n",
    "    # Class Tokenizer - This class allows to vectorize a text corpus, by turning each text into either a sequence of integers (each integer being the index of a token in a dictionary)\n",
    "    # tokenizer = Tokenizer(num_words=n_most_common_words, filters='!\"#$%&()*+,-./:;<=>?@[\\]^_`{|}~', lower=True)\n",
    "    tokenizer = Tokenizer(num_words=n_most_common_words, lower=False)\n",
    "\n",
    "    # fit_on_texts - Updates internal vocabulary based on a list of texts. In the case where texts contains lists, we assume each entry of the lists to be a token.\n",
    "    # tokenizer.fit_on_texts(increased_vul['OPCODE'].values)\n",
    "    tokenizer.fit_on_texts(df['OPCODE'].values)\n",
    "\n",
    "    # # Transforms each text in texts in a sequence of integers.\n",
    "    sequences = tokenizer.texts_to_sequences(df['OPCODE'].values)\n",
    "    # sequences = tokenizer.texts_to_sequences(tt)\n",
    "\n",
    "    #Find number of unique words/tokens\n",
    "    word_index = tokenizer.word_index\n",
    "    print('Found %s unique tokens.' % len(word_index))\n",
    "\n",
    "    #pad sequences with zeros in front to make them all maxlen\n",
    "    X = pad_sequences(sequences, maxlen=max_len)\n",
    "    return X\n",
    "\n",
    "def dftoXY(df):\n",
    "    # Save test X and y\n",
    "    X_test = preprocess(df)\n",
    "    # label data\n",
    "    label(df)\n",
    "#     df['LABEL'] = 0\n",
    "#     df.loc[df['CATEGORY'] == '1 0 0 0', 'LABEL'] = 0\n",
    "#     df.loc[df['CATEGORY'] != '1 0 0 0', 'LABEL'] = 1\n",
    "    print(pd.value_counts(df['LABEL']))\n",
    "    y_test = to_categorical(df['LABEL'], num_classes=2)\n",
    "    return X_test, y_test    \n",
    "\n",
    "def XandY(posdf, negdf=None):\n",
    "    dfset = pd.concat([posdf, negdf])\n",
    "    dfset = dfset.sample(frac=1, random_state=39, replace=False)\n",
    "\n",
    "    dfset['LABEL'] = 0\n",
    "\n",
    "    #One-hot encode the lab\n",
    "    dfset.loc[dfset['CATEGORY'] == '1 0 0 0', 'LABEL'] = 0\n",
    "    dfset.loc[dfset['CATEGORY'] != '1 0 0 0', 'LABEL'] = 1\n",
    "    # df_train.head()\n",
    "\n",
    "    X, y = dftoXY(dfset)\n",
    "\n",
    "    print('Shape of X: {}'.format(X.shape))\n",
    "\n",
    "    # for sm.fit_sample\n",
    "    y_labels = np.expand_dims(np.array(np.argmax(y, axis=1)), axis=1)\n",
    "    print('Shape of y: {}'.format(y_labels.shape))\n",
    "\n",
    "    return X, y_labels"
   ]
  },
  {
   "cell_type": "markdown",
   "metadata": {},
   "source": [
    "### Loading the dataset"
   ]
  },
  {
   "cell_type": "code",
   "execution_count": 3,
   "metadata": {},
   "outputs": [
    {
     "data": {
      "text/html": [
       "<div>\n",
       "<style scoped>\n",
       "    .dataframe tbody tr th:only-of-type {\n",
       "        vertical-align: middle;\n",
       "    }\n",
       "\n",
       "    .dataframe tbody tr th {\n",
       "        vertical-align: top;\n",
       "    }\n",
       "\n",
       "    .dataframe thead th {\n",
       "        text-align: right;\n",
       "    }\n",
       "</style>\n",
       "<table border=\"1\" class=\"dataframe\">\n",
       "  <thead>\n",
       "    <tr style=\"text-align: right;\">\n",
       "      <th></th>\n",
       "      <th>ADDRESS</th>\n",
       "      <th>OPCODE</th>\n",
       "      <th>CATEGORY</th>\n",
       "    </tr>\n",
       "  </thead>\n",
       "  <tbody>\n",
       "    <tr>\n",
       "      <th>0</th>\n",
       "      <td>0x219f4ee903f78e78773e5d1e3520cfd507485bc6</td>\n",
       "      <td>60 60 52 36 15 61 57 60 35 7c 90 04 63 16 80 6...</td>\n",
       "      <td>1 0 0 0</td>\n",
       "    </tr>\n",
       "    <tr>\n",
       "      <th>1</th>\n",
       "      <td>0x560ed796aa8d23411b94b9d047ecdda39d4fcdeb</td>\n",
       "      <td>60 60 52 36 15 61 57 60 35 7c 90 04 63 16 80 6...</td>\n",
       "      <td>1 0 0 0</td>\n",
       "    </tr>\n",
       "    <tr>\n",
       "      <th>2</th>\n",
       "      <td>0xe726f97ff3c63dd71c1520c102adc39d1a2693ea</td>\n",
       "      <td>60 60 52 36 15 61 57 60 35 7c 90 04 63 16 80 6...</td>\n",
       "      <td>1 0 0 0</td>\n",
       "    </tr>\n",
       "    <tr>\n",
       "      <th>3</th>\n",
       "      <td>0x8ebac490495958b3804bb079e259340f0f53b69c</td>\n",
       "      <td>60 60 52 36 15 61 57 60 35 7c 90 04 63 16 80 6...</td>\n",
       "      <td>1 0 0 0</td>\n",
       "    </tr>\n",
       "    <tr>\n",
       "      <th>4</th>\n",
       "      <td>0x190700d69031db6b072a30577f9b3dbc53a320a1</td>\n",
       "      <td>60 60 52 36 15 61 57 60 35 7c 90 04 63 16 80 6...</td>\n",
       "      <td>1 0 0 0</td>\n",
       "    </tr>\n",
       "  </tbody>\n",
       "</table>\n",
       "</div>"
      ],
      "text/plain": [
       "                                      ADDRESS  \\\n",
       "0  0x219f4ee903f78e78773e5d1e3520cfd507485bc6   \n",
       "1  0x560ed796aa8d23411b94b9d047ecdda39d4fcdeb   \n",
       "2  0xe726f97ff3c63dd71c1520c102adc39d1a2693ea   \n",
       "3  0x8ebac490495958b3804bb079e259340f0f53b69c   \n",
       "4  0x190700d69031db6b072a30577f9b3dbc53a320a1   \n",
       "\n",
       "                                              OPCODE CATEGORY  \n",
       "0  60 60 52 36 15 61 57 60 35 7c 90 04 63 16 80 6...  1 0 0 0  \n",
       "1  60 60 52 36 15 61 57 60 35 7c 90 04 63 16 80 6...  1 0 0 0  \n",
       "2  60 60 52 36 15 61 57 60 35 7c 90 04 63 16 80 6...  1 0 0 0  \n",
       "3  60 60 52 36 15 61 57 60 35 7c 90 04 63 16 80 6...  1 0 0 0  \n",
       "4  60 60 52 36 15 61 57 60 35 7c 90 04 63 16 80 6...  1 0 0 0  "
      ]
     },
     "execution_count": 3,
     "metadata": {},
     "output_type": "execute_result"
    }
   ],
   "source": [
    "# Loading and reading csv input data \n",
    "# dataset = 'results_merged_12-10-2018_noTP.csv'\n",
    "# dataset = 'results_merged_12-10-2018_dataset1_greedy.csv'\n",
    "# dataset = 'results_fixed_first100k.csv'\n",
    "dataset = 'clean_train.csv'\n",
    "data = pd.read_csv('./input_data/final/'+dataset, usecols=['ADDRESS', 'OPCODE', 'CATEGORY'])\n",
    "data.head()"
   ]
  },
  {
   "cell_type": "raw",
   "metadata": {},
   "source": [
    "data.iloc[0:4]"
   ]
  },
  {
   "cell_type": "markdown",
   "metadata": {},
   "source": [
    "### Checking the target classes"
   ]
  },
  {
   "cell_type": "code",
   "execution_count": 4,
   "metadata": {
    "scrolled": true
   },
   "outputs": [
    {
     "data": {
      "text/plain": [
       "1 0 0 0    884273\n",
       "0 0 0 1      5801\n",
       "0 0 1 0      1461\n",
       "0 1 0 0      1207\n",
       "0 1 1 0       171\n",
       "Name: CATEGORY, dtype: int64"
      ]
     },
     "execution_count": 4,
     "metadata": {},
     "output_type": "execute_result"
    }
   ],
   "source": [
    "pd.value_counts(data['CATEGORY'])"
   ]
  },
  {
   "cell_type": "markdown",
   "metadata": {},
   "source": [
    "### Plot unbalanced"
   ]
  },
  {
   "cell_type": "code",
   "execution_count": 5,
   "metadata": {},
   "outputs": [
    {
     "data": {
      "image/png": "[encoded data removed]",
      "text/plain": [
       "<Figure size 576x576 with 1 Axes>"
      ]
     },
     "metadata": {},
     "output_type": "display_data"
    }
   ],
   "source": [
    "fig = plt.figure()\n",
    "count_classes = pd.value_counts(data['CATEGORY'], sort = True).sort_index()\n",
    "count_classes.plot(kind = 'bar')\n",
    "plt.title(\"Vulnerability Class Histogram\")\n",
    "plt.xlabel(\"Class\")\n",
    "plt.ylabel(\"Frequency\")\n",
    "fig.set_size_inches(8, 8)\n",
    "plt.show()\n",
    "# fig.savefig('./figures/clean_train_unbalanced_distr.png', dpi=300) #, bbox_inches='tight'"
   ]
  },
  {
   "cell_type": "markdown",
   "metadata": {},
   "source": [
    "### Dividing data into vulnerable and non-vulnerable"
   ]
  },
  {
   "cell_type": "code",
   "execution_count": 7,
   "metadata": {},
   "outputs": [],
   "source": [
    "# shuffled = data.reindex(np.random.permutation(data.index))\n",
    "shuffled = data\n",
    "\n",
    "# shuffled = data\n",
    "n = shuffled[shuffled['CATEGORY'] == '1 0 0 0'] # no vulnerabilities\n",
    "s = shuffled[shuffled['CATEGORY'] == '0 1 0 0'] # suicidal\n",
    "p = shuffled[shuffled['CATEGORY'] == '0 0 1 0'] # prodigal\n",
    "g = shuffled[shuffled['CATEGORY'] == '0 0 0 1'] # greedy\n",
    "sp = shuffled[shuffled['CATEGORY'] == '0 1 1 0'] # suicidal and prodigal"
   ]
  },
  {
   "cell_type": "markdown",
   "metadata": {},
   "source": [
    "### Plot two class unbalanced"
   ]
  },
  {
   "cell_type": "code",
   "execution_count": 154,
   "metadata": {},
   "outputs": [
    {
     "data": {
      "image/png": "[encoded data removed]",
      "text/plain": [
       "<Figure size 576x576 with 1 Axes>"
      ]
     },
     "metadata": {},
     "output_type": "display_data"
    }
   ],
   "source": [
    "concated = pd.concat([n,s,p,g,sp], ignore_index=True)\n",
    "\n",
    "#Shuffle the dataset\n",
    "concated = concated.reindex(np.random.permutation(concated.index))\n",
    "concated['LABEL'] = 0\n",
    "\n",
    "#One-hot encode the lab\n",
    "concated.loc[concated['CATEGORY'] == '1 0 0 0', 'LABEL'] = 0\n",
    "concated.loc[concated['CATEGORY'] != '1 0 0 0', 'LABEL'] = 1\n",
    "\n",
    "import seaborn as sns\n",
    "fig = plt.figure()\n",
    "# colors = [\"#0101DF\", \"#DF0101\"]\n",
    "colors = [\"#A1CAF1\", \"#E30022\"]\n",
    "\n",
    "sns.countplot('LABEL', data=concated, palette=colors)\n",
    "plt.title('Class Distributions \\n (0 = Not vulnerable || 1 = Vulnerable)', fontsize=14)\n",
    "fig.set_size_inches(8, 8)\n",
    "# fig.savefig('./figures/clean_train_unbalanced2class.png', dpi=300) #, bbox_inches='tight'"
   ]
  },
  {
   "cell_type": "markdown",
   "metadata": {},
   "source": [
    "### Dividing data into train, validation, and test"
   ]
  },
  {
   "cell_type": "code",
   "execution_count": 9,
   "metadata": {},
   "outputs": [
    {
     "name": "stdout",
     "output_type": "stream",
     "text": [
      "8640\n"
     ]
    }
   ],
   "source": [
    "# ========== set of vul contracts ========== \n",
    "# shuffle positives dataset\n",
    "positives = pd.concat([s,p,g,sp])\n",
    "positives_shuf = positives.sample(frac=1, random_state=39, replace=False)\n",
    "print(len(positives_shuf))\n",
    "\n",
    "# split positives dataset into train, val, and test\n",
    "proportion_train = 0.64 #0.7 \n",
    "proportion_val = 0.16 #0.1 \n",
    "proportion_test = 0.2 #0.20\n",
    "\n",
    "num_pos_train = round(len(positives_shuf) * proportion_train)\n",
    "num_pos_val = round(len(positives_shuf) * proportion_val)\n",
    "\n",
    "pos_train = positives_shuf.iloc[0:num_pos_train] \n",
    "pos_val = positives_shuf.iloc[num_pos_train:(num_pos_train+num_pos_val)]\n",
    "pos_test = positives_shuf.iloc[(num_pos_train+num_pos_val):]\n",
    "\n",
    "# print(len(pos_train))\n",
    "# print(len(pos_val))\n",
    "# print(len(pos_test))"
   ]
  },
  {
   "cell_type": "code",
   "execution_count": 133,
   "metadata": {},
   "outputs": [],
   "source": [
    "# ========== set of non-vul contracts ========== \n",
    "# # shuffle set n\n",
    "n_shuf = n.sample(frac=1, random_state=39, replace=False)\n",
    "\n",
    "n_shuf['FP'] = 0\n",
    "# set number of samples in each set\n",
    "num_neg_train = 9000 #30000 #11000\n",
    "num_neg_val = round(((num_neg_train)/proportion_train)*proportion_val)\n",
    "num_neg_test = round(((num_neg_train)/proportion_train)*proportion_test)\n",
    "\n",
    "neg_train = n_shuf.iloc[0:num_neg_train]\n",
    "neg_val = n_shuf.iloc[num_neg_train:(num_neg_train+num_neg_val)]\n",
    "neg_test = n_shuf.iloc[(num_neg_train+num_neg_val):(num_neg_train+num_neg_val+num_neg_test)]\n",
    "\n",
    "# neg_notused = n_shuf.iloc[(num_neg_train+num_neg_val+num_neg_test):]\n",
    "# print(\"Number of negative samples not used: \", len(neg_notused))\n",
    "\n",
    "# print(len(neg_train))\n",
    "# print(len(neg_val))\n",
    "# print(len(neg_test))"
   ]
  },
  {
   "cell_type": "code",
   "execution_count": 134,
   "metadata": {},
   "outputs": [
    {
     "name": "stdout",
     "output_type": "stream",
     "text": [
      "Total Number of Leak FPs:  177\n",
      "Total Number of Suicidal FPs:  72\n",
      "Total Number of Greedy FPs:  202\n",
      "Number of Leak FPs for Training:  141\n",
      "Number of Leak FPs for Test:  36\n",
      "Number of Suicidal FPs for Training:  59\n",
      "Number of Suicidal FPs for Test:  13\n",
      "Number of Lock FPs for Training:  148\n",
      "Number of Lock FPs for Test:  54\n",
      "Number of FPs:  348\n"
     ]
    }
   ],
   "source": [
    "# ========== adding FPs into non-vul training set ========== \n",
    "# FPs = \"clean_test_allFP_noDups.csv\"\n",
    "# allFPs = pd.read_csv('./input_data/final/no_duplicates/'+ FPs, usecols=['ADDRESS', 'OPCODE', 'CATEGORY'])\n",
    "# all_testset = 'clean_test_allFP_noDups.csv'\n",
    "leakFP = 'clean_test_leakFP_noDups.csv'\n",
    "suicidalFP = 'clean_test_suicidalFP_noDups.csv'\n",
    "greedyFP = 'clean_test_greedyFP_noDups.csv'\n",
    "\n",
    "leakFPs = pd.read_csv('./input_data/final/no_duplicates/'+leakFP, usecols=['ADDRESS', 'OPCODE', 'CATEGORY'])\n",
    "print(\"Total Number of Leak FPs: \", len(leakFPs))\n",
    "suicidalFPs = pd.read_csv('./input_data/final/no_duplicates/'+suicidalFP, usecols=['ADDRESS', 'OPCODE', 'CATEGORY'])\n",
    "print(\"Total Number of Suicidal FPs: \", len(suicidalFPs))\n",
    "greedyFPs = pd.read_csv('./input_data/final/no_duplicates/'+greedyFP, usecols=['ADDRESS', 'OPCODE', 'CATEGORY'])\n",
    "print(\"Total Number of Greedy FPs: \", len(greedyFPs))\n",
    "\n",
    "# Split FPs into training and test set\n",
    "FPtrain_frac = 0.8\n",
    "def FPsplit(df, train_frac):\n",
    "    msk = np.random.rand(len(df)) <= train_frac\n",
    "    train_df = df[msk]\n",
    "    test_df = df[~msk]\n",
    "    return train_df, test_df\n",
    "\n",
    "train_leakFPs, test_leakFPs = FPsplit(leakFPs, FPtrain_frac)\n",
    "print(\"Number of Leak FPs for Training: \", len(train_leakFPs))\n",
    "print(\"Number of Leak FPs for Test: \", len(test_leakFPs))\n",
    "\n",
    "train_suicidalFPs, test_suicidalFPs = FPsplit(suicidalFPs, FPtrain_frac)\n",
    "print(\"Number of Suicidal FPs for Training: \", len(train_suicidalFPs))\n",
    "print(\"Number of Suicidal FPs for Test: \", len(test_suicidalFPs))\n",
    "\n",
    "train_lockFPs, test_lockFPs = FPsplit(greedyFPs, FPtrain_frac)\n",
    "print(\"Number of Lock FPs for Training: \", len(train_lockFPs))\n",
    "print(\"Number of Lock FPs for Test: \", len(test_lockFPs))\n",
    "\n",
    "trainFPs = pd.concat([train_leakFPs, train_suicidalFPs, train_lockFPs])\n",
    "\n",
    "# add column to classify FPs and non-FPs\n",
    "trainFPs['FP'] = 1\n",
    "\n",
    "numFPs = len(trainFPs)\n",
    "# print(\"Number of Original Negatives: \", len(neg_train))\n",
    "print(\"Number of FPs: \", numFPs) #allFPs"
   ]
  },
  {
   "cell_type": "code",
   "execution_count": 132,
   "metadata": {},
   "outputs": [
    {
     "data": {
      "text/html": [
       "<div>\n",
       "<style scoped>\n",
       "    .dataframe tbody tr th:only-of-type {\n",
       "        vertical-align: middle;\n",
       "    }\n",
       "\n",
       "    .dataframe tbody tr th {\n",
       "        vertical-align: top;\n",
       "    }\n",
       "\n",
       "    .dataframe thead th {\n",
       "        text-align: right;\n",
       "    }\n",
       "</style>\n",
       "<table border=\"1\" class=\"dataframe\">\n",
       "  <thead>\n",
       "    <tr style=\"text-align: right;\">\n",
       "      <th></th>\n",
       "      <th>ADDRESS</th>\n",
       "      <th>CATEGORY</th>\n",
       "      <th>FP</th>\n",
       "      <th>OPCODE</th>\n",
       "    </tr>\n",
       "  </thead>\n",
       "  <tbody>\n",
       "    <tr>\n",
       "      <th>7356</th>\n",
       "      <td>0xd52351f24702f2544a455a64c4d00c956a323614</td>\n",
       "      <td>1 0 0 0</td>\n",
       "      <td>NaN</td>\n",
       "      <td>60 60 52 36 15 61 57 60 35 7c 90 04 63 16 80 6...</td>\n",
       "    </tr>\n",
       "    <tr>\n",
       "      <th>59163</th>\n",
       "      <td>0x9ebe9f86af71452d881875be50df5bf8180ea06a</td>\n",
       "      <td>1 0 0 0</td>\n",
       "      <td>NaN</td>\n",
       "      <td>60 60 52 36 15 61 57 60 60 0a 60 35 04 63 81 1...</td>\n",
       "    </tr>\n",
       "    <tr>\n",
       "      <th>804669</th>\n",
       "      <td>0xa3aea63ace61db42e4b63328234688c857f0d36d</td>\n",
       "      <td>1 0 0 0</td>\n",
       "      <td>NaN</td>\n",
       "      <td>60 60 52 60 60 0a 60 35 04 63 81 14 60 57 5b 6...</td>\n",
       "    </tr>\n",
       "    <tr>\n",
       "      <th>613041</th>\n",
       "      <td>0x36a8759350cc9ef5216d2d2aa06ef95f93854611</td>\n",
       "      <td>1 0 0 0</td>\n",
       "      <td>NaN</td>\n",
       "      <td>60 60 52 36 15 61 57 60 35 7c 90 04 63 16 80 6...</td>\n",
       "    </tr>\n",
       "    <tr>\n",
       "      <th>801456</th>\n",
       "      <td>0xb3d8c02a09156e7a431fa3ecca058f7952ae8aae</td>\n",
       "      <td>1 0 0 0</td>\n",
       "      <td>NaN</td>\n",
       "      <td>60 60 52 36 15 61 57 60 35 7c 90 04 63 16 80 6...</td>\n",
       "    </tr>\n",
       "  </tbody>\n",
       "</table>\n",
       "</div>"
      ],
      "text/plain": [
       "                                           ADDRESS CATEGORY  FP  \\\n",
       "7356    0xd52351f24702f2544a455a64c4d00c956a323614  1 0 0 0 NaN   \n",
       "59163   0x9ebe9f86af71452d881875be50df5bf8180ea06a  1 0 0 0 NaN   \n",
       "804669  0xa3aea63ace61db42e4b63328234688c857f0d36d  1 0 0 0 NaN   \n",
       "613041  0x36a8759350cc9ef5216d2d2aa06ef95f93854611  1 0 0 0 NaN   \n",
       "801456  0xb3d8c02a09156e7a431fa3ecca058f7952ae8aae  1 0 0 0 NaN   \n",
       "\n",
       "                                                   OPCODE  \n",
       "7356    60 60 52 36 15 61 57 60 35 7c 90 04 63 16 80 6...  \n",
       "59163   60 60 52 36 15 61 57 60 60 0a 60 35 04 63 81 1...  \n",
       "804669  60 60 52 60 60 0a 60 35 04 63 81 14 60 57 5b 6...  \n",
       "613041  60 60 52 36 15 61 57 60 35 7c 90 04 63 16 80 6...  \n",
       "801456  60 60 52 36 15 61 57 60 35 7c 90 04 63 16 80 6...  "
      ]
     },
     "execution_count": 132,
     "metadata": {},
     "output_type": "execute_result"
    }
   ],
   "source": [
    "negval_addFP.head()"
   ]
  },
  {
   "cell_type": "code",
   "execution_count": 139,
   "metadata": {},
   "outputs": [
    {
     "name": "stdout",
     "output_type": "stream",
     "text": [
      "Found 150 unique tokens.\n",
      "Found 150 unique tokens.\n",
      "Found 150 unique tokens.\n",
      "Shape of X: (9223, 130)\n",
      "Shape of y: (9223, 1)\n",
      "Shape of X: (2306, 130)\n",
      "Shape of y: (2306, 1)\n",
      "Shape of X: (2881, 130)\n",
      "Shape of y: (2881, 1)\n",
      "Number transactions X_negtrain dataset:  (9223, 130)\n",
      "Number transactions y_negtrain dataset:  (9223, 1)\n",
      "Before OverSampling, train counts of label '1': [223]\n",
      "Before OverSampling, train counts of label '0': [9000]\n",
      "Before OverSampling, val counts of label '1': [56]\n",
      "Before OverSampling, val counts of label '0': [2250]\n",
      "Before OverSampling, test counts of label '1': [69]\n",
      "Before OverSampling, test counts of label '0': [2812]\n"
     ]
    }
   ],
   "source": [
    "# set number of samples in each set\n",
    "numtrainFPs = round(numFPs*proportion_train)\n",
    "numvalFPs = round(numFPs*proportion_val)\n",
    "numtestFPs = numFPs - numtrainFPs - numvalFPs\n",
    "\n",
    "FP_train = trainFPs.iloc[0:numtrainFPs]\n",
    "FP_val = trainFPs.iloc[numtrainFPs:(numtrainFPs+numvalFPs)]\n",
    "FP_test = trainFPs.iloc[(numtrainFPs+numvalFPs):(numtrainFPs+numvalFPs+numtestFPs)]\n",
    "\n",
    "# Concatenate dfs\n",
    "negtrain_addFP = pd.concat([neg_train, FP_train])\n",
    "negval_addFP = pd.concat([neg_val, FP_val])\n",
    "negtest_addFP = pd.concat([neg_test, FP_test])\n",
    "# Shuffle df\n",
    "negtrain_addFP = negtrain_addFP.sample(frac=1, random_state=39, replace=False)\n",
    "negval_addFP = negval_addFP.sample(frac=1, random_state=39, replace=False)\n",
    "negtest_addFP = negtest_addFP.sample(frac=1, random_state=39, replace=False)\n",
    "# Processing X and y\n",
    "Xnegtrain_addFP = preprocess(negtrain_addFP)\n",
    "ynegtrain_addFP = to_categorical(negtrain_addFP['FP'], num_classes=2)\n",
    "Xnegval_addFP = preprocess(negval_addFP)\n",
    "ynegval_addFP = to_categorical(negval_addFP['FP'], num_classes=2)\n",
    "Xnegtest_addFP = preprocess(negtest_addFP)\n",
    "ynegtest_addFP = to_categorical(negtest_addFP['FP'], num_classes=2)\n",
    "# for sm.fit_sample\n",
    "ynegtrain_addFP_labels = np.expand_dims(np.array(np.argmax(ynegtrain_addFP, axis=1)), axis=1)\n",
    "print('Shape of X: {}'.format(Xnegtrain_addFP.shape))\n",
    "print('Shape of y: {}'.format(ynegtrain_addFP_labels.shape))\n",
    "ynegval_addFP_labels = np.expand_dims(np.array(np.argmax(ynegval_addFP, axis=1)), axis=1)\n",
    "print('Shape of X: {}'.format(Xnegval_addFP.shape))\n",
    "print('Shape of y: {}'.format(ynegval_addFP_labels.shape))\n",
    "ynegtest_addFP_labels = np.expand_dims(np.array(np.argmax(ynegtest_addFP, axis=1)), axis=1)\n",
    "print('Shape of X: {}'.format(Xnegtest_addFP.shape))\n",
    "print('Shape of y: {}'.format(ynegtest_addFP_labels.shape))\n",
    "\n",
    "# Prepare train set \n",
    "# Xneg_train, ynegtrain_labels = XandY(neg_train, allFPs, label='FP')\n",
    "print(\"Number transactions X_negtrain dataset: \", Xnegtrain_addFP.shape)\n",
    "print(\"Number transactions y_negtrain dataset: \", ynegtrain_addFP_labels.shape)\n",
    "print(\"Before OverSampling, train counts of label '1': {}\".format(sum(ynegtrain_addFP_labels==1)))\n",
    "print(\"Before OverSampling, train counts of label '0': {}\".format(sum(ynegtrain_addFP_labels==0)))\n",
    "print(\"Before OverSampling, val counts of label '1': {}\".format(sum(ynegval_addFP_labels==1)))\n",
    "print(\"Before OverSampling, val counts of label '0': {}\".format(sum(ynegval_addFP_labels==0)))\n",
    "print(\"Before OverSampling, test counts of label '1': {}\".format(sum(ynegtest_addFP_labels==1)))\n",
    "print(\"Before OverSampling, test counts of label '0': {}\".format(sum(ynegtest_addFP_labels==0)))"
   ]
  },
  {
   "cell_type": "raw",
   "metadata": {},
   "source": [
    "# Concatenate dfs\n",
    "neg_addFP = pd.concat([neg_train, trainFPs])\n",
    "# Shuffle df\n",
    "neg_addFP = neg_addFP.sample(frac=1, random_state=39, replace=False)\n",
    "# Processing X and y\n",
    "Xneg_addFP = preprocess(neg_addFP)\n",
    "yneg_addFP = to_categorical(neg_addFP['FP'], num_classes=2)\n",
    "# for sm.fit_sample\n",
    "yneg_addFP_labels = np.expand_dims(np.array(np.argmax(yneg_addFP, axis=1)), axis=1)\n",
    "print('Shape of X: {}'.format(Xneg_addFP.shape))\n",
    "print('Shape of y: {}'.format(yneg_addFP_labels.shape))\n",
    "\n",
    "# Prepare train set \n",
    "# Xneg_train, ynegtrain_labels = XandY(neg_train, allFPs, label='FP')\n",
    "print(\"Number transactions X_neg dataset: \", Xneg_addFP.shape)\n",
    "print(\"Number transactions y_neg dataset: \", yneg_addFP_labels.shape)\n",
    "print(\"Before OverSampling, counts of label '1': {}\".format(sum(yneg_addFP_labels==1)))\n",
    "print(\"Before OverSampling, counts of label '0': {}\".format(sum(yneg_addFP_labels==0)))"
   ]
  },
  {
   "cell_type": "code",
   "execution_count": 140,
   "metadata": {},
   "outputs": [],
   "source": [
    "from imblearn.over_sampling import SMOTE\n",
    "smt = SMOTE(ratio=0.35, random_state=39)"
   ]
  },
  {
   "cell_type": "code",
   "execution_count": 142,
   "metadata": {},
   "outputs": [
    {
     "name": "stdout",
     "output_type": "stream",
     "text": [
      "After OverSampling, the shape of train_X: (12150, 130)\n",
      "After OverSampling, the shape of train_y: (12150,)\n",
      "After OverSampling, the shape of val_X: (3037, 130)\n",
      "After OverSampling, the shape of val_y: (3037,)\n",
      "After OverSampling, the shape of test_X: (3796, 130)\n",
      "After OverSampling, the shape of test_y: (3796,)\n"
     ]
    },
    {
     "name": "stderr",
     "output_type": "stream",
     "text": [
      "/home/wesley/miniconda3/envs/deeplearn_CE7454/lib/python3.6/site-packages/sklearn/utils/deprecation.py:77: DeprecationWarning: Function _ratio_float is deprecated; Use a float for 'ratio' is deprecated from version 0.2. The support will be removed in 0.4. Use a dict, str, or a callable instead.\n",
      "  warnings.warn(msg, category=DeprecationWarning)\n",
      "/home/wesley/miniconda3/envs/deeplearn_CE7454/lib/python3.6/site-packages/sklearn/utils/deprecation.py:77: DeprecationWarning: Function _ratio_float is deprecated; Use a float for 'ratio' is deprecated from version 0.2. The support will be removed in 0.4. Use a dict, str, or a callable instead.\n",
      "  warnings.warn(msg, category=DeprecationWarning)\n",
      "/home/wesley/miniconda3/envs/deeplearn_CE7454/lib/python3.6/site-packages/sklearn/utils/deprecation.py:77: DeprecationWarning: Function _ratio_float is deprecated; Use a float for 'ratio' is deprecated from version 0.2. The support will be removed in 0.4. Use a dict, str, or a callable instead.\n",
      "  warnings.warn(msg, category=DeprecationWarning)\n"
     ]
    }
   ],
   "source": [
    "Xnegtrain_res, ynegtrain_res = smt.fit_sample(Xnegtrain_addFP, ynegtrain_addFP_labels.ravel())\n",
    "Xnegval_res, ynegval_res = smt.fit_sample(Xnegval_addFP, ynegval_addFP_labels.ravel())\n",
    "Xnegtest_res, ynegtest_res = smt.fit_sample(Xnegtest_addFP, ynegtest_addFP_labels.ravel())\n",
    "\n",
    "print('After OverSampling, the shape of train_X: {}'.format(Xnegtrain_res.shape))\n",
    "print('After OverSampling, the shape of train_y: {}'.format(ynegtrain_res.shape))\n",
    "print('After OverSampling, the shape of val_X: {}'.format(Xnegval_res.shape))\n",
    "print('After OverSampling, the shape of val_y: {}'.format(ynegval_res.shape))\n",
    "print('After OverSampling, the shape of test_X: {}'.format(Xnegtest_res.shape))\n",
    "print('After OverSampling, the shape of test_y: {}'.format(ynegtest_res.shape))\n",
    "\n",
    "# change all neg labels to zero\n",
    "ynegtrain_res = np.zeros(len(ynegtrain_res))\n",
    "ynegval_res = np.zeros(len(ynegval_res))\n",
    "ynegtest_res = np.zeros(len(ynegtest_res))"
   ]
  },
  {
   "cell_type": "code",
   "execution_count": null,
   "metadata": {},
   "outputs": [],
   "source": []
  },
  {
   "cell_type": "raw",
   "metadata": {},
   "source": [
    "num_resampledneg = ynegtrain_res.shape[0]\n",
    "num_resampledneg_val = round(((num_resampledneg)/proportion_train)*proportion_val)\n",
    "num_resampledneg_test = round(((num_resampledneg)/proportion_train)*proportion_test)\n",
    "\n",
    "neg_val = n_shuf.iloc[num_neg_train:(num_neg_train+num_resampledneg_val)]\n",
    "neg_test = n_shuf.iloc[(num_neg_train+num_resampledneg_val):(num_neg_train+num_resampledneg_val+num_resampledneg_test)]\n",
    "\n",
    "# neg_notused = n_shuf.iloc[(num_neg_train+num_resampledneg_val+num_resampledneg_test):]\n",
    "# print(\"Number of negative samples not used: \", len(neg_notused))\n",
    "\n",
    "print(\"Number of negatives in validation dataset (16% of negtrain_addFP): \", len(neg_val))\n",
    "print(\"Number of negatives in test dataset (35% of negtrain_addFP): \", len(neg_test))"
   ]
  },
  {
   "cell_type": "markdown",
   "metadata": {},
   "source": [
    "### Resampling samples"
   ]
  },
  {
   "cell_type": "code",
   "execution_count": 145,
   "metadata": {},
   "outputs": [
    {
     "name": "stdout",
     "output_type": "stream",
     "text": [
      "Found 150 unique tokens.\n",
      "1    5530\n",
      "Name: LABEL, dtype: int64\n",
      "Shape of X: (5530, 130)\n",
      "Shape of y: (5530, 1)\n",
      "Found 150 unique tokens.\n",
      "1    1382\n",
      "Name: LABEL, dtype: int64\n",
      "Shape of X: (1382, 130)\n",
      "Shape of y: (1382, 1)\n",
      "Found 150 unique tokens.\n",
      "1    1728\n",
      "Name: LABEL, dtype: int64\n",
      "Shape of X: (1728, 130)\n",
      "Shape of y: (1728, 1)\n"
     ]
    }
   ],
   "source": [
    "def arrayXandY(Xarray1, Xarray2, yarray1, yarray2):\n",
    "    X = np.concatenate((Xarray1, Xarray2),axis=0)\n",
    "    yarray2 = np.expand_dims(np.array(yarray2), axis=1)\n",
    "    y_labels = np.concatenate((yarray1, yarray2),axis=0)\n",
    "    \n",
    "    return X, y_labels\n",
    "\n",
    "# Prepare train set \n",
    "# X_train, ytrain_labels = XandY(pos_train, neg_train)\n",
    "Xpos_train, ypostrain_labels = XandY(pos_train)\n",
    "X_train, ytrain_labels = arrayXandY(Xpos_train, Xnegtrain_res, ypostrain_labels, ynegtrain_res)\n",
    "\n",
    "# Prepare validation set \n",
    "Xpos_val, yposval_labels = XandY(pos_val)\n",
    "X_val, yval_labels = arrayXandY(Xpos_val, Xnegval_res, yposval_labels, ynegval_res)\n",
    "\n",
    "# Prepare test set \n",
    "Xpos_test, ypostest_labels = XandY(pos_test)\n",
    "X_test, ytest_labels = arrayXandY(Xpos_test, Xnegtest_res, ypostest_labels, ynegtest_res)\n",
    "\n",
    "from sklearn.utils import shuffle\n",
    "# shuffle train set\n",
    "X_train, ytrain_labels = shuffle(X_train, ytrain_labels, random_state=39)\n",
    "X_val, yval_labels = shuffle(X_val, yval_labels, random_state=39)\n",
    "X_test, ytest_labels = shuffle(X_test, ytest_labels, random_state=39)"
   ]
  },
  {
   "cell_type": "code",
   "execution_count": 146,
   "metadata": {},
   "outputs": [
    {
     "name": "stdout",
     "output_type": "stream",
     "text": [
      "Number transactions X_train dataset:  (17680, 130)\n",
      "Number transactions y_train dataset:  (17680, 1)\n",
      "Number transactions X_val dataset:  (4419, 130)\n",
      "Number transactions y_val dataset:  (4419, 1)\n",
      "Number transactions X_test dataset:  (5524, 130)\n",
      "Number transactions y_test dataset:  (5524, 1)\n",
      "Before OverSampling, counts of label '1': [5530]\n",
      "Before OverSampling, counts of label '0': [12150]\n",
      "Before OverSampling, counts of label '1': [1382]\n",
      "Before OverSampling, counts of label '0': [3037]\n",
      "Before OverSampling, counts of label '1': [1728]\n",
      "Before OverSampling, counts of label '0': [3796] \n",
      "\n"
     ]
    }
   ],
   "source": [
    "print(\"Number transactions X_train dataset: \", X_train.shape)\n",
    "print(\"Number transactions y_train dataset: \", ytrain_labels.shape)\n",
    "print(\"Number transactions X_val dataset: \", X_val.shape)\n",
    "print(\"Number transactions y_val dataset: \", yval_labels.shape)\n",
    "print(\"Number transactions X_test dataset: \", X_test.shape)\n",
    "print(\"Number transactions y_test dataset: \", ytest_labels.shape)\n",
    "\n",
    "print(\"Before OverSampling, counts of label '1': {}\".format(sum(ytrain_labels==1)))\n",
    "print(\"Before OverSampling, counts of label '0': {}\".format(sum(ytrain_labels==0)))\n",
    "print(\"Before OverSampling, counts of label '1': {}\".format(sum(yval_labels==1)))\n",
    "print(\"Before OverSampling, counts of label '0': {}\".format(sum(yval_labels==0)))\n",
    "print(\"Before OverSampling, counts of label '1': {}\".format(sum(ytest_labels==1)))\n",
    "print(\"Before OverSampling, counts of label '0': {} \\n\".format(sum(ytest_labels==0)))"
   ]
  },
  {
   "cell_type": "code",
   "execution_count": 147,
   "metadata": {},
   "outputs": [],
   "source": [
    "# ============ Resample ============ \n",
    "from imblearn.over_sampling import SMOTE\n",
    "\n",
    "sm = SMOTE(random_state=39)\n",
    "X_train_res, y_train_res = sm.fit_sample(X_train, ytrain_labels.ravel())\n",
    "X_val_res, y_val_res = sm.fit_sample(X_val, yval_labels.ravel())\n",
    "X_test_res, y_test_res = sm.fit_sample(X_test, ytest_labels.ravel())"
   ]
  },
  {
   "cell_type": "code",
   "execution_count": 148,
   "metadata": {},
   "outputs": [
    {
     "name": "stdout",
     "output_type": "stream",
     "text": [
      "After OverSampling, the shape of train_X: (24300, 130)\n",
      "After OverSampling, the shape of train_y: (24300,)\n",
      "After OverSampling, the shape of val_X: (6074, 130)\n",
      "After OverSampling, the shape of val_y: (6074,)\n",
      "After OverSampling, the shape of test_X: (7592, 130)\n",
      "After OverSampling, the shape of test_y: (7592,) \n",
      "\n",
      "After OverSampling, counts of train label '1': 12150\n",
      "After OverSampling, counts of train label '0': 12150\n",
      "After OverSampling, counts of val label '1': 3037\n",
      "After OverSampling, counts of val label '0': 3037\n",
      "After OverSampling, counts of test label '1': 3796\n",
      "After OverSampling, counts of test label '0': 3796\n"
     ]
    }
   ],
   "source": [
    "print('After OverSampling, the shape of train_X: {}'.format(X_train_res.shape))\n",
    "print('After OverSampling, the shape of train_y: {}'.format(y_train_res.shape))\n",
    "print('After OverSampling, the shape of val_X: {}'.format(X_val_res.shape))\n",
    "print('After OverSampling, the shape of val_y: {}'.format(y_val_res.shape))\n",
    "print('After OverSampling, the shape of test_X: {}'.format(X_test_res.shape))\n",
    "print('After OverSampling, the shape of test_y: {} \\n'.format(y_test_res.shape))\n",
    "\n",
    "print(\"After OverSampling, counts of train label '1': {}\".format(sum(y_train_res==1)))\n",
    "print(\"After OverSampling, counts of train label '0': {}\".format(sum(y_train_res==0)))\n",
    "print(\"After OverSampling, counts of val label '1': {}\".format(sum(y_val_res==1)))\n",
    "print(\"After OverSampling, counts of val label '0': {}\".format(sum(y_val_res==0)))\n",
    "print(\"After OverSampling, counts of test label '1': {}\".format(sum(y_test_res==1)))\n",
    "print(\"After OverSampling, counts of test label '0': {}\".format(sum(y_test_res==0)))"
   ]
  },
  {
   "cell_type": "markdown",
   "metadata": {},
   "source": [
    "### Plot two class balanced"
   ]
  },
  {
   "cell_type": "code",
   "execution_count": 149,
   "metadata": {},
   "outputs": [],
   "source": [
    "entire_dataset = np.concatenate((y_train_res,y_val_res,y_test_res))"
   ]
  },
  {
   "cell_type": "code",
   "execution_count": 150,
   "metadata": {},
   "outputs": [
    {
     "data": {
      "image/png": "[encoded data removed]",
      "text/plain": [
       "<Figure size 576x576 with 1 Axes>"
      ]
     },
     "metadata": {},
     "output_type": "display_data"
    }
   ],
   "source": [
    "import seaborn as sns\n",
    "fig = plt.figure()\n",
    "colors = [\"#A1CAF1\", \"#E30022\"]\n",
    "\n",
    "sns.countplot(0, data=pd.DataFrame(entire_dataset), palette=colors)\n",
    "plt.title('Class Distributions \\n (0 = Not vulnerable || 1 = Vulnerable)', fontsize=14)\n",
    "fig.set_size_inches(8, 8)\n",
    "# fig.savefig('./figures/clean_train_unbalanced2class.png', dpi=300) #, bbox_inches='tight'"
   ]
  },
  {
   "cell_type": "markdown",
   "metadata": {},
   "source": [
    "### Multiclass LSTM Model"
   ]
  },
  {
   "cell_type": "code",
   "execution_count": 151,
   "metadata": {},
   "outputs": [],
   "source": [
    "# Init\n",
    "epochs = 50 #100\n",
    "emb_dim = 128 #150\n",
    "batch_size = 256 #512   \n",
    "# labels[:2]"
   ]
  },
  {
   "cell_type": "code",
   "execution_count": 152,
   "metadata": {},
   "outputs": [],
   "source": [
    "# Clear model\n",
    "import keras\n",
    "keras.backend.clear_session()"
   ]
  },
  {
   "cell_type": "code",
   "execution_count": 153,
   "metadata": {},
   "outputs": [
    {
     "name": "stdout",
     "output_type": "stream",
     "text": [
      "((24300, 130), (24300, 2), (6074, 130), (6074, 2), (7592, 130), (7592, 2))\n"
     ]
    }
   ],
   "source": [
    "# Convert format for training  \n",
    "ytrainres_cat = to_categorical(y_train_res, num_classes=2)\n",
    "yvalres_cat = to_categorical(y_val_res, num_classes=2)\n",
    "ytestres_cat = to_categorical(y_test_res, num_classes=2)\n",
    "\n",
    "print((X_train_res.shape, ytrainres_cat.shape, X_val_res.shape, yvalres_cat.shape, X_test_res.shape, ytestres_cat.shape))"
   ]
  },
  {
   "cell_type": "code",
   "execution_count": 62,
   "metadata": {
    "scrolled": true
   },
   "outputs": [
    {
     "name": "stdout",
     "output_type": "stream",
     "text": [
      "_________________________________________________________________\n",
      "Layer (type)                 Output Shape              Param #   \n",
      "=================================================================\n",
      "embedding_1 (Embedding)      (None, 130, 128)          128000    \n",
      "_________________________________________________________________\n",
      "spatial_dropout1d_1 (Spatial (None, 130, 128)          0         \n",
      "_________________________________________________________________\n",
      "lstm_1 (LSTM)                (None, 16)                9280      \n",
      "_________________________________________________________________\n",
      "dense_1 (Dense)              (None, 2)                 34        \n",
      "=================================================================\n",
      "Total params: 137,314\n",
      "Trainable params: 137,314\n",
      "Non-trainable params: 0\n",
      "_________________________________________________________________\n",
      "None\n",
      "Train on 19800 samples, validate on 4950 samples\n",
      "Epoch 1/50\n",
      "19800/19800 [==============================] - 19s 941us/step - loss: 0.4504 - acc: 0.8975 - val_loss: 0.5998 - val_acc: 0.7426\n",
      "Epoch 2/50\n",
      "19800/19800 [==============================] - 17s 866us/step - loss: 0.1647 - acc: 0.9541 - val_loss: 0.6985 - val_acc: 0.6954\n",
      "Epoch 3/50\n",
      "19800/19800 [==============================] - 17s 872us/step - loss: 0.1131 - acc: 0.9636 - val_loss: 0.7307 - val_acc: 0.7086\n",
      "Epoch 4/50\n",
      "19800/19800 [==============================] - 17s 874us/step - loss: 0.0941 - acc: 0.9684 - val_loss: 0.7988 - val_acc: 0.6726\n",
      "Epoch 5/50\n",
      "19800/19800 [==============================] - 17s 871us/step - loss: 0.0822 - acc: 0.9728 - val_loss: 0.8115 - val_acc: 0.6712\n",
      "Epoch 6/50\n",
      "19800/19800 [==============================] - 17s 874us/step - loss: 0.0747 - acc: 0.9754 - val_loss: 0.8158 - val_acc: 0.6759\n",
      "Epoch 7/50\n",
      "19800/19800 [==============================] - 18s 885us/step - loss: 0.0722 - acc: 0.9759 - val_loss: 0.7902 - val_acc: 0.6823\n",
      "Epoch 8/50\n",
      "19800/19800 [==============================] - 18s 891us/step - loss: 0.0671 - acc: 0.9777 - val_loss: 0.8144 - val_acc: 0.6841\n",
      "Epoch 9/50\n",
      "19800/19800 [==============================] - 17s 871us/step - loss: 0.0639 - acc: 0.9784 - val_loss: 0.7975 - val_acc: 0.6856\n",
      "Epoch 10/50\n",
      "19800/19800 [==============================] - 17s 872us/step - loss: 0.0633 - acc: 0.9783 - val_loss: 0.8061 - val_acc: 0.6909\n",
      "Epoch 11/50\n",
      "19800/19800 [==============================] - 18s 893us/step - loss: 0.0592 - acc: 0.9801 - val_loss: 0.7728 - val_acc: 0.6744\n",
      "Epoch 12/50\n",
      "19800/19800 [==============================] - 18s 893us/step - loss: 0.0594 - acc: 0.9793 - val_loss: 0.7878 - val_acc: 0.6783\n",
      "Epoch 13/50\n",
      "19800/19800 [==============================] - 18s 887us/step - loss: 0.0568 - acc: 0.9805 - val_loss: 0.7442 - val_acc: 0.6791\n",
      "Epoch 14/50\n",
      "19800/19800 [==============================] - 18s 900us/step - loss: 0.0564 - acc: 0.9808 - val_loss: 0.7065 - val_acc: 0.6899\n",
      "Epoch 15/50\n",
      "19800/19800 [==============================] - 18s 895us/step - loss: 0.0531 - acc: 0.9817 - val_loss: 0.7164 - val_acc: 0.6788\n",
      "Epoch 16/50\n",
      "19800/19800 [==============================] - 18s 903us/step - loss: 0.0533 - acc: 0.9818 - val_loss: 0.7045 - val_acc: 0.7258\n",
      "Epoch 17/50\n",
      "19800/19800 [==============================] - 18s 884us/step - loss: 0.0513 - acc: 0.9823 - val_loss: 0.7099 - val_acc: 0.6784\n",
      "Epoch 18/50\n",
      "19800/19800 [==============================] - 18s 891us/step - loss: 0.0493 - acc: 0.9831 - val_loss: 0.7094 - val_acc: 0.6798\n",
      "Epoch 19/50\n",
      "19800/19800 [==============================] - 17s 884us/step - loss: 0.0491 - acc: 0.9830 - val_loss: 0.7383 - val_acc: 0.6773\n",
      "Epoch 20/50\n",
      "19800/19800 [==============================] - 18s 890us/step - loss: 0.0478 - acc: 0.9826 - val_loss: 0.7455 - val_acc: 0.6816\n",
      "Epoch 21/50\n",
      "19800/19800 [==============================] - 18s 887us/step - loss: 0.0478 - acc: 0.9826 - val_loss: 0.7216 - val_acc: 0.6786\n",
      "Epoch 22/50\n",
      "19800/19800 [==============================] - 18s 891us/step - loss: 0.0448 - acc: 0.9838 - val_loss: 0.7570 - val_acc: 0.6825\n",
      "Epoch 23/50\n",
      "19800/19800 [==============================] - 18s 895us/step - loss: 0.0441 - acc: 0.9843 - val_loss: 0.7411 - val_acc: 0.6758\n",
      "Epoch 24/50\n",
      "19800/19800 [==============================] - 18s 892us/step - loss: 0.0417 - acc: 0.9854 - val_loss: 0.7563 - val_acc: 0.6792\n",
      "Epoch 25/50\n",
      "19800/19800 [==============================] - 17s 877us/step - loss: 0.0434 - acc: 0.9844 - val_loss: 0.7615 - val_acc: 0.6804\n",
      "Epoch 26/50\n",
      "19800/19800 [==============================] - 17s 862us/step - loss: 0.0418 - acc: 0.9857 - val_loss: 0.8043 - val_acc: 0.6796\n",
      "Epoch 27/50\n",
      "19800/19800 [==============================] - 17s 868us/step - loss: 0.0399 - acc: 0.9851 - val_loss: 0.7810 - val_acc: 0.6805\n",
      "Epoch 28/50\n",
      "19800/19800 [==============================] - 18s 895us/step - loss: 0.0389 - acc: 0.9852 - val_loss: 0.7935 - val_acc: 0.6764\n",
      "Epoch 29/50\n",
      "19800/19800 [==============================] - 18s 885us/step - loss: 0.0384 - acc: 0.9854 - val_loss: 0.9674 - val_acc: 0.5110\n",
      "Epoch 30/50\n",
      "19800/19800 [==============================] - 17s 876us/step - loss: 0.0371 - acc: 0.9854 - val_loss: 0.9754 - val_acc: 0.5155\n",
      "Epoch 31/50\n",
      "19800/19800 [==============================] - 17s 873us/step - loss: 0.0371 - acc: 0.9856 - val_loss: 0.9290 - val_acc: 0.5140\n",
      "Epoch 32/50\n",
      "19800/19800 [==============================] - 18s 899us/step - loss: 0.0359 - acc: 0.9864 - val_loss: 1.1191 - val_acc: 0.5090\n",
      "Epoch 33/50\n",
      "19800/19800 [==============================] - 18s 889us/step - loss: 0.0365 - acc: 0.9860 - val_loss: 1.0507 - val_acc: 0.5129\n",
      "Epoch 34/50\n",
      "19800/19800 [==============================] - 18s 894us/step - loss: 0.0357 - acc: 0.9865 - val_loss: 0.9941 - val_acc: 0.5155\n",
      "Epoch 35/50\n",
      "19800/19800 [==============================] - 18s 902us/step - loss: 0.0338 - acc: 0.9872 - val_loss: 0.9185 - val_acc: 0.5949\n",
      "Epoch 36/50\n",
      "19800/19800 [==============================] - 18s 914us/step - loss: 0.0330 - acc: 0.9870 - val_loss: 1.0163 - val_acc: 0.5175\n",
      "Epoch 37/50\n",
      "19800/19800 [==============================] - 18s 910us/step - loss: 0.0325 - acc: 0.9878 - val_loss: 1.0741 - val_acc: 0.5122\n",
      "Epoch 38/50\n",
      "19800/19800 [==============================] - 18s 902us/step - loss: 0.0325 - acc: 0.9879 - val_loss: 1.1516 - val_acc: 0.5133\n",
      "Epoch 39/50\n",
      "19800/19800 [==============================] - 18s 892us/step - loss: 0.0333 - acc: 0.9875 - val_loss: 1.1243 - val_acc: 0.4939\n",
      "Epoch 40/50\n",
      "19800/19800 [==============================] - 18s 890us/step - loss: 0.0308 - acc: 0.9888 - val_loss: 1.1803 - val_acc: 0.5112\n",
      "Epoch 41/50\n",
      "19800/19800 [==============================] - 18s 895us/step - loss: 0.0298 - acc: 0.9879 - val_loss: 1.2873 - val_acc: 0.4872\n",
      "Epoch 42/50\n",
      "19800/19800 [==============================] - 18s 892us/step - loss: 0.0297 - acc: 0.9893 - val_loss: 1.2253 - val_acc: 0.5126\n",
      "Epoch 43/50\n",
      "19800/19800 [==============================] - 18s 906us/step - loss: 0.0295 - acc: 0.9886 - val_loss: 1.2521 - val_acc: 0.5154\n",
      "Epoch 44/50\n",
      "19800/19800 [==============================] - 17s 879us/step - loss: 0.0310 - acc: 0.9886 - val_loss: 1.2391 - val_acc: 0.4842\n",
      "Epoch 45/50\n",
      "19800/19800 [==============================] - 17s 883us/step - loss: 0.0279 - acc: 0.9898 - val_loss: 1.3029 - val_acc: 0.4848\n",
      "Epoch 46/50\n",
      "19800/19800 [==============================] - 17s 878us/step - loss: 0.0280 - acc: 0.9891 - val_loss: 1.2801 - val_acc: 0.5124\n",
      "Epoch 47/50\n",
      "19800/19800 [==============================] - 18s 903us/step - loss: 0.0290 - acc: 0.9890 - val_loss: 1.3848 - val_acc: 0.4808\n",
      "Epoch 48/50\n",
      "19800/19800 [==============================] - 18s 890us/step - loss: 0.0279 - acc: 0.9897 - val_loss: 1.3957 - val_acc: 0.4805\n",
      "Epoch 49/50\n",
      "19800/19800 [==============================] - 18s 891us/step - loss: 0.0266 - acc: 0.9899 - val_loss: 1.3877 - val_acc: 0.4823\n",
      "Epoch 50/50\n",
      "19800/19800 [==============================] - 17s 879us/step - loss: 0.0274 - acc: 0.9897 - val_loss: 1.4275 - val_acc: 0.4863\n",
      "Time taken for training:  880.8676347732544\n"
     ]
    }
   ],
   "source": [
    "n_most_common_words = 1000 #150 \n",
    "model = Sequential()\n",
    "# n_most_common_words=Size of the vocabulary, emb_dim=Dimension of the dense embedding, input_length=Length of input sequences, when it is constant\n",
    "model.add(Embedding(n_most_common_words, emb_dim, input_length=X_train_res.shape[1]))\n",
    "model.add(SpatialDropout1D(0.55))\n",
    "model.add(LSTM(16, dropout=0.55, recurrent_dropout=0.55))\n",
    "model.add(Dense(2, activation='sigmoid'))\n",
    "# model.compile(optimizer='adam', loss='binary_crossentropy', metrics=['acc'])\n",
    "model.compile(optimizer='adam', loss='binary_crossentropy', metrics=['acc'])\n",
    "print(model.summary())\n",
    "\n",
    "import time\n",
    "start_time = time.time()\n",
    "# Downsampled and balanced dataset\n",
    "# history = model.fit(X_train, y_train, epochs=epochs, batch_size=batch_size,validation_split=0.0,callbacks=[EarlyStopping(monitor='loss',patience=7, min_delta=0.0001)])\n",
    "\n",
    "\n",
    "history = model.fit(X_train_res, ytrainres_cat, epochs=epochs, batch_size=batch_size, validation_split=0.0, validation_data=(X_val_res, yvalres_cat),callbacks=[EarlyStopping(monitor='loss',patience=7, min_delta=0.0001)])\n",
    "\n",
    "\n",
    "# history = model.fit(add_greedy_X, add_greedy_y, epochs=epochs, batch_size=batch_size,validation_split=0.2,callbacks=[EarlyStopping(monitor='val_loss',patience=7, min_delta=0.0001)])\n",
    "\n",
    "# # Entire and unbalanced dataset\n",
    "# history = model.fit(under_sample_X, under_sample_y, epochs=epochs, batch_size=batch_size,validation_split=0,callbacks=[EarlyStopping(monitor='val_loss',patience=7, min_delta=0.0001)])\n",
    "\n",
    "end_time = time.time()\n",
    "print('Time taken for training: ', end_time-start_time)"
   ]
  },
  {
   "cell_type": "markdown",
   "metadata": {},
   "source": [
    "### Test and evaluate model accuracy"
   ]
  },
  {
   "cell_type": "code",
   "execution_count": 63,
   "metadata": {},
   "outputs": [
    {
     "name": "stdout",
     "output_type": "stream",
     "text": [
      "6188/6188 [==============================] - 14s 2ms/step\n",
      "Test set\n",
      "  Loss: 1.7165\n",
      "  Accuracy: 0.6335\n"
     ]
    }
   ],
   "source": [
    "accr = model.evaluate(X_test_res, ytestres_cat)\n",
    "print('Test set\\n  Loss: {:0.4f}\\n  Accuracy: {:0.4f}'.format(accr[0],accr[1]))"
   ]
  },
  {
   "cell_type": "code",
   "execution_count": null,
   "metadata": {},
   "outputs": [],
   "source": [
    "y_pred = model.predict_classes(X_test_res, batch_size=32, verbose=1)\n",
    "ytest_true = y_test_res"
   ]
  },
  {
   "cell_type": "code",
   "execution_count": null,
   "metadata": {},
   "outputs": [],
   "source": [
    "# ytest_true = y_test_res\n",
    "# y_pred.shape"
   ]
  },
  {
   "cell_type": "code",
   "execution_count": null,
   "metadata": {},
   "outputs": [],
   "source": [
    "from sklearn.metrics import average_precision_score\n",
    "\n",
    "# Compute the average precision score\n",
    "average_precision = average_precision_score(ytest_true, y_pred)\n",
    "print('Average Precision Score: {:0.4f}\\n'.format(average_precision))"
   ]
  },
  {
   "cell_type": "code",
   "execution_count": null,
   "metadata": {},
   "outputs": [],
   "source": [
    "from sklearn.metrics import precision_recall_curve\n",
    "from sklearn.utils.fixes import signature\n",
    "\n",
    "precision, recall, _ = precision_recall_curve(ytest_true, y_pred)\n",
    "print(recall[1])\n",
    "print('Recall Score: {:0.4f}\\n'.format(recall[1]))\n",
    "\n",
    "# # In matplotlib < 1.5, plt.fill_between does not have a 'step' argument\n",
    "# step_kwargs = ({'step': 'post'}\n",
    "#                if 'step' in signature(plt.fill_between).parameters\n",
    "#                else {})\n",
    "# plt.step(recall, precision, color='b', alpha=0.2,\n",
    "#          where='post')\n",
    "# plt.fill_between(recall, precision, alpha=0.2, color='b', **step_kwargs)\n",
    "\n",
    "# plt.xlabel('Recall')\n",
    "# plt.ylabel('Precision')\n",
    "# plt.ylim([0.0, 1.05])\n",
    "# plt.xlim([0.0, 1.0])\n",
    "# plt.title('2-class Precision-Recall curve: AP={0:0.2f}'.format(\n",
    "#           average_precision))"
   ]
  },
  {
   "cell_type": "code",
   "execution_count": null,
   "metadata": {},
   "outputs": [],
   "source": [
    "from sklearn.metrics import precision_score, \\\n",
    "    recall_score, confusion_matrix, classification_report, \\\n",
    "    accuracy_score, f1_score\n",
    "\n",
    "print('Accuracy:', accuracy_score(ytest_true, y_pred))\n",
    "print('Recall:', recall_score(ytest_true, y_pred))\n",
    "print('Precision:', precision_score(ytest_true, y_pred))\n",
    "print('F1 score:', f1_score(ytest_true, y_pred))\n",
    "print('\\n clasification report:\\n', classification_report(ytest_true, y_pred))\n",
    "print('\\n confusion matrix:\\n',confusion_matrix(ytest_true, y_pred))"
   ]
  },
  {
   "cell_type": "markdown",
   "metadata": {},
   "source": [
    "# Plot Performance"
   ]
  },
  {
   "cell_type": "code",
   "execution_count": null,
   "metadata": {
    "scrolled": true
   },
   "outputs": [],
   "source": [
    "acc = history.history['acc']\n",
    "val_acc = history.history['val_acc']\n",
    "loss = history.history['loss']\n",
    "val_loss = history.history['val_loss']\n",
    "\n",
    "epochs = range(1, len(acc) + 1)\n",
    "\n",
    "fig = plt.figure()\n",
    "plt.xlabel('Epochs')\n",
    "plt.ylabel('Accuracy')\n",
    "plt.plot(epochs, acc, 'bo', label='Training acc')\n",
    "plt.plot(epochs, val_acc, 'b', label='Validation acc')\n",
    "plt.title('Training and validation accuracy')\n",
    "plt.legend()\n",
    "\n",
    "# fig.savefig('clean_train_acc.png',dpi=300)"
   ]
  },
  {
   "cell_type": "code",
   "execution_count": null,
   "metadata": {},
   "outputs": [],
   "source": [
    "fig = plt.figure()\n",
    "plt.xlabel('Epochs')\n",
    "plt.ylabel('Loss')\n",
    "plt.plot(epochs, loss, 'bo', label='Training loss')\n",
    "plt.plot(epochs, val_loss, 'b', label='Validation loss')\n",
    "plt.title('Training and validation loss')\n",
    "plt.legend()\n",
    "\n",
    "plt.show()\n",
    "# fig.savefig('clean_train_loss.png',dpi=300)"
   ]
  },
  {
   "cell_type": "code",
   "execution_count": null,
   "metadata": {},
   "outputs": [],
   "source": [
    "# model.predict(X_test, verbose=1)"
   ]
  },
  {
   "cell_type": "markdown",
   "metadata": {},
   "source": [
    "### Saving and loading history"
   ]
  },
  {
   "cell_type": "code",
   "execution_count": null,
   "metadata": {},
   "outputs": [],
   "source": [
    "# import json\n",
    "# # Get the dictionary containing each metric and the loss for each epoch\n",
    "# history_dict = history.history\n",
    "# # Save it under the form of a json file\n",
    "# json.dump(history_dict, open(your_history_path, 'w'))\n",
    "\n",
    "import pickle\n",
    "with open('./saved_model/less_imbal/6k_40k', 'wb') as file_pi:\n",
    "        pickle.dump(history.history, file_pi)"
   ]
  },
  {
   "cell_type": "code",
   "execution_count": null,
   "metadata": {},
   "outputs": [],
   "source": [
    "import pickle\n",
    "infile = open('./saved_model/cleantrain_final/64_1_best','rb')\n",
    "history0 = pickle.load(infile)\n",
    "infile.close()"
   ]
  },
  {
   "cell_type": "markdown",
   "metadata": {},
   "source": [
    "# Saving and Loading Model"
   ]
  },
  {
   "cell_type": "code",
   "execution_count": null,
   "metadata": {},
   "outputs": [],
   "source": [
    "# Save model to models folder \n",
    "model.save('./saved_model/less_imbal/'+ '6k_40k' + '.h5')"
   ]
  },
  {
   "cell_type": "code",
   "execution_count": null,
   "metadata": {},
   "outputs": [],
   "source": [
    "# loading previously saved model\n",
    "from keras.models import load_model\n",
    "model = load_model('./saved_model/less_imbal2/'+'9x_450k.h5')"
   ]
  },
  {
   "cell_type": "markdown",
   "metadata": {},
   "source": [
    "### Saving variables and df pickle"
   ]
  },
  {
   "cell_type": "raw",
   "metadata": {},
   "source": [
    "norm_test.to_pickle('./saved_model/upsample/'+ 'norm_testk' + '.pkl')"
   ]
  },
  {
   "cell_type": "code",
   "execution_count": null,
   "metadata": {},
   "outputs": [],
   "source": [
    "norm_train = pd.read_pickle('./saved_model/less_imbal2/'+ 'norm_train9x_450k' + '.pkl')\n",
    "norm_test = pd.read_pickle('./saved_model/less_imbal2/'+ 'norm_test9x_450k' + '.pkl')\n",
    "print(pd.value_counts(norm_train['CATEGORY']))\n",
    "print(pd.value_counts(norm_test['CATEGORY']))"
   ]
  },
  {
   "cell_type": "code",
   "execution_count": null,
   "metadata": {},
   "outputs": [],
   "source": [
    "# norm_test = norm_test[:3000]\n",
    "num_tr = 10000\n",
    "norm_train = norm_train.sample(num_tr, random_state=9, replace=False)\n",
    "norm_test = norm_test.sample(num_tr, random_state=9, replace=False)\n",
    "\n",
    "# trialset = pd.concat([ss,pp,gg,ssp,norm_test], ignore_index=True)\n",
    "# trialset = pd.concat([ss,pp,gg,ssp], ignore_index=True)\n",
    "trtrainset = pd.concat([norm_train], ignore_index=True)\n",
    "trtrainset = trtrainset.sample(frac=1, random_state=39, replace=False)\n",
    "trtestset = pd.concat([norm_test], ignore_index=True)\n",
    "trtestset = trtestset.sample(frac=1, random_state=39, replace=False)\n",
    "\n",
    "# label(trialset)\n",
    "# pd.value_counts(trialset['LABEL'])\n",
    "# trialpred = model.predict(preprocess(trialset), verbose=1)\n",
    "# plt.hist(trialpred[:,0], range=(0,1))\n",
    "\n",
    "X_trtrain, y_trtrain = dftoXY(trtrainset) #.iloc[:3000]\n",
    "trtrain_accr = model.evaluate(X_trtrain,y_trtrain)\n",
    "print('Tr train set\\n  Loss: {:0.4f}\\n  Accuracy: {:0.4f}'.format(trtrain_accr[0],trtrain_accr[1]))\n",
    "\n",
    "X_trtest, y_trtest = dftoXY(trtestset) #.iloc[:3000]\n",
    "trtest_accr = model.evaluate(X_trtest,y_trtest)\n",
    "print('Tr test set\\n  Loss: {:0.4f}\\n  Accuracy: {:0.4f}'.format(trtest_accr[0],trtest_accr[1]))"
   ]
  },
  {
   "cell_type": "code",
   "execution_count": null,
   "metadata": {},
   "outputs": [],
   "source": [
    "positives = pd.concat([s,p,g,sp], ignore_index=True)\n",
    "positives = positives.sample(frac=1, random_state=39, replace=False)\n",
    "\n",
    "X_pos, y_pos = dftoXY(positives) \n",
    "pos_accr = model.evaluate(X_pos,y_pos)\n",
    "print('Tr train set\\n  Loss: {:0.4f}\\n  Accuracy: {:0.4f}'.format(pos_accr[0],pos_accr[1]))"
   ]
  },
  {
   "cell_type": "markdown",
   "metadata": {},
   "source": [
    "# Testing"
   ]
  },
  {
   "cell_type": "code",
   "execution_count": null,
   "metadata": {},
   "outputs": [],
   "source": [
    "label(norm_test)\n",
    "pd.value_counts(norm_test['LABEL'])"
   ]
  },
  {
   "cell_type": "code",
   "execution_count": null,
   "metadata": {},
   "outputs": [],
   "source": [
    "X_neg, y_neg = dftoXY(norm_test) #.iloc[:3000]\n",
    "neg_accr = model.evaluate(X_neg,y_neg)\n",
    "print('Test set\\n  Loss: {:0.4f}\\n  Accuracy: {:0.4f}'.format(neg_accr[0],neg_accr[1]))"
   ]
  },
  {
   "cell_type": "code",
   "execution_count": null,
   "metadata": {},
   "outputs": [],
   "source": [
    "ntest = norm_test\n",
    "negtest = preprocess(ntest.iloc[1000:2000])\n",
    "negt = model.predict(negtest, verbose=1)\n",
    "plt.hist(negt[:,0], range=(0,1))"
   ]
  },
  {
   "cell_type": "raw",
   "metadata": {},
   "source": [
    "predtest_neg = np.count_nonzero(negt[:,0] >= 0.5)\n",
    "print(predtest_neg)\n",
    "predtest_accr = predtest_neg / len(negt)\n",
    "print('Test set\\n Accuracy: {:0.4f}'.format(predtest_accr))"
   ]
  },
  {
   "cell_type": "markdown",
   "metadata": {},
   "source": [
    "# All test FPs"
   ]
  },
  {
   "cell_type": "markdown",
   "metadata": {},
   "source": [
    "### Loading the dataset"
   ]
  },
  {
   "cell_type": "raw",
   "metadata": {},
   "source": [
    "# Loading and reading csv input data \n",
    "\n",
    "# all_testset = 'clean_test_allFP_noDups.csv'\n",
    "leakFP = 'clean_test_leakFP_noDups.csv'\n",
    "suicidalFP = 'clean_test_suicidalFP_noDups.csv'\n",
    "greedyFP = 'clean_test_greedyFP_noDups.csv'\n",
    "\n",
    "leakFP_test = pd.read_csv('./input_data/final/no_duplicates/'+leakFP, usecols=['ADDRESS', 'OPCODE', 'CATEGORY'])\n",
    "suicidalFP_test = pd.read_csv('./input_data/final/no_duplicates/'+suicidalFP, usecols=['ADDRESS', 'OPCODE', 'CATEGORY'])\n",
    "greedyFP_test = pd.read_csv('./input_data/final/no_duplicates/'+greedyFP, usecols=['ADDRESS', 'OPCODE', 'CATEGORY'])\n",
    "\n",
    "# leakFP_test.head()"
   ]
  },
  {
   "cell_type": "raw",
   "metadata": {
    "scrolled": true
   },
   "source": [
    "X_leakFP, y_leakFP = dftoXY(leakFP_test)\n",
    "leakFP_accr = model.evaluate(X_leakFP,y_leakFP)\n",
    "print('Leak test set\\n  Loss: {:0.4f}\\n  Accuracy: {:0.4f}'.format(leakFP_accr[0],leakFP_accr[1]))\n",
    "\n",
    "X_suicidalFP, y_suicidalFP = dftoXY(suicidalFP_test)\n",
    "suicidalFP_accr = model.evaluate(X_suicidalFP,y_suicidalFP)\n",
    "print('Suicidal test set\\n  Loss: {:0.4f}\\n  Accuracy: {:0.4f}'.format(suicidalFP_accr[0],suicidalFP_accr[1]))\n",
    "\n",
    "X_greedyFP, y_greedyFP = dftoXY(greedyFP_test)\n",
    "greedyFP_accr = model.evaluate(X_greedyFP,y_greedyFP)\n",
    "print('Greedy test set\\n  Loss: {:0.4f}\\n  Accuracy: {:0.4f}'.format(greedyFP_accr[0],greedyFP_accr[1]))"
   ]
  },
  {
   "cell_type": "code",
   "execution_count": null,
   "metadata": {},
   "outputs": [],
   "source": [
    "X_leakFP, y_leakFP = dftoXY(test_leakFPs)\n",
    "leakFP_accr = model.evaluate(X_leakFP,y_leakFP)\n",
    "print('Leak test set\\n  Loss: {:0.4f}\\n  Accuracy: {:0.4f}'.format(leakFP_accr[0],leakFP_accr[1]))\n",
    "\n",
    "X_suicidalFP, y_suicidalFP = dftoXY(test_suicidalFPs)\n",
    "suicidalFP_accr = model.evaluate(X_suicidalFP,y_suicidalFP)\n",
    "print('Suicidal test set\\n  Loss: {:0.4f}\\n  Accuracy: {:0.4f}'.format(suicidalFP_accr[0],suicidalFP_accr[1]))\n",
    "\n",
    "X_greedyFP, y_greedyFP = dftoXY(test_lockFPs)\n",
    "greedyFP_accr = model.evaluate(X_greedyFP,y_greedyFP)\n",
    "print('Greedy test set\\n  Loss: {:0.4f}\\n  Accuracy: {:0.4f}'.format(greedyFP_accr[0],greedyFP_accr[1]))"
   ]
  },
  {
   "cell_type": "code",
   "execution_count": null,
   "metadata": {},
   "outputs": [],
   "source": []
  },
  {
   "cell_type": "code",
   "execution_count": null,
   "metadata": {},
   "outputs": [],
   "source": [
    "# FP = 'clean_test_greedyFP_noDups.csv'\n",
    "# FP = 'clean_test_leakFP_noDups.csv'\n",
    "FP = 'clean_test_suicidalFP_noDups.csv'\n",
    "\n",
    "all_test = pd.read_csv('./input_data/final/no_duplicates/'+ FP, usecols=['ADDRESS', 'OPCODE', 'CATEGORY'])\n",
    "\n",
    "all_X = preprocess(all_test)\n",
    "pred_all = model.predict(all_X, verbose=1)\n",
    "\n",
    "fig = plt.figure()\n",
    "plt.hist(pred_all[:,1])\n",
    "plt.xlabel('Prediction (0.0 = Not vulnerable, 1.0 = Vulnerable)')\n",
    "plt.ylabel('Number of samples')\n",
    "plt.title('Distribution of LSTM Prediction on All FPs')\n",
    "# plt.legend()\n",
    "# fig.savefig('./figures/AllFP_distr.png',dpi=300)\n",
    "\n",
    "predall_pos = np.count_nonzero(pred_all[:,1] < 0.5)\n",
    "print(predall_pos)\n",
    "predall_accr = predall_pos / len(pred_all)\n",
    "print('Test set\\n Accuracy: {:0.4f}'.format(predall_accr))"
   ]
  },
  {
   "cell_type": "code",
   "execution_count": null,
   "metadata": {},
   "outputs": [],
   "source": []
  },
  {
   "cell_type": "markdown",
   "metadata": {},
   "source": [
    "# Plot Performance"
   ]
  },
  {
   "cell_type": "code",
   "execution_count": null,
   "metadata": {},
   "outputs": [],
   "source": [
    "import pickle\n",
    "infile = open('./saved_model/less_imbal2/' + '15x_750k','rb')\n",
    "history0 = pickle.load(infile)\n",
    "infile.close()"
   ]
  },
  {
   "cell_type": "code",
   "execution_count": null,
   "metadata": {
    "scrolled": true
   },
   "outputs": [],
   "source": [
    "# acc = history.history['acc']\n",
    "# val_acc = history.history['val_acc']\n",
    "# loss = history.history['loss']\n",
    "# val_loss = history.history['val_loss']\n",
    "\n",
    "acc = history0['acc']\n",
    "val_acc = history0['val_acc']\n",
    "loss = history0['loss']\n",
    "val_loss = history0['val_loss']\n",
    "\n",
    "\n",
    "epochs = range(1, len(acc) + 1)\n",
    "\n",
    "fig = plt.figure()\n",
    "plt.xlabel('Epochs')\n",
    "plt.ylabel('Accuracy')\n",
    "plt.plot(epochs, acc, 'bo', label='Training acc')\n",
    "plt.plot(epochs, val_acc, 'b', label='Validation acc')\n",
    "plt.title('Training and validation accuracy')\n",
    "plt.legend()\n",
    "\n",
    "fig.savefig('./figures/clean_train_acc.png',dpi=300)"
   ]
  },
  {
   "cell_type": "code",
   "execution_count": null,
   "metadata": {},
   "outputs": [],
   "source": [
    "fig = plt.figure()\n",
    "plt.xlabel('Epochs')\n",
    "plt.ylabel('Loss')\n",
    "plt.plot(epochs, loss, 'bo', label='Training loss')\n",
    "plt.plot(epochs, val_loss, 'b', label='Validation loss')\n",
    "plt.title('Training and validation loss')\n",
    "plt.legend()\n",
    "\n",
    "plt.show()\n",
    "fig.savefig('./figures/clean_train_loss.png',dpi=300)"
   ]
  },
  {
   "cell_type": "markdown",
   "metadata": {},
   "source": [
    "### Collecting and saving flagged negatives for validation"
   ]
  },
  {
   "cell_type": "code",
   "execution_count": null,
   "metadata": {},
   "outputs": [],
   "source": [
    "pred_neg = model.predict(X_trtest, verbose=1)"
   ]
  },
  {
   "cell_type": "code",
   "execution_count": null,
   "metadata": {},
   "outputs": [],
   "source": [
    "predneg = np.count_nonzero(pred_neg[:,1] > 0.5)\n",
    "predneg_accr = predneg / len(pred_neg)\n",
    "print('Percentage of Negatives Flagged: {:0.4f}'.format(predneg_accr))\n",
    "\n",
    "LSTM_pos = np.nonzero(pred_neg[:,1] > 0.5)\n",
    "np.array(np.nonzero(pred_neg[:,1] > 0.5)).shape\n",
    "\n",
    "lstm_Negflagged = norm_test.iloc[LSTM_pos]\n",
    "# lstm_Negflagged.to_csv ('./output_data/lstm_flaggedNeg_final.csv', index = None, header=True)"
   ]
  },
  {
   "cell_type": "code",
   "execution_count": null,
   "metadata": {},
   "outputs": [],
   "source": [
    "fig = plt.figure()\n",
    "plt.hist(pred_neg[:,1])\n",
    "plt.xlabel('Prediction (less than 0.5 (Not vulnerable), greater than 0.5 (Vulnerable))')\n",
    "plt.ylabel('Number of samples')\n",
    "plt.title('Distribution of LSTM Prediction on Unflagged Contracts')\n",
    "\n",
    "fig.savefig('./figures/lstm_flaggedNeg_final.png',dpi=300)"
   ]
  },
  {
   "cell_type": "markdown",
   "metadata": {},
   "source": [
    "# Saving and Loading Trained Model"
   ]
  },
  {
   "cell_type": "code",
   "execution_count": null,
   "metadata": {},
   "outputs": [],
   "source": [
    "model_name = \"v3_550KLSTM64epoch100train0.64drop0.55\"\n",
    "\n",
    "# \"v3_550KLSTM64epoch100train0.64drop0.5\""
   ]
  },
  {
   "cell_type": "raw",
   "metadata": {},
   "source": [
    "# Save model to models folder \n",
    "model.save('./saved_model/less_imbal/'+ '6k_40k' + '.h5')"
   ]
  },
  {
   "cell_type": "code",
   "execution_count": null,
   "metadata": {},
   "outputs": [],
   "source": [
    "# loading previously saved model\n",
    "from keras.models import load_model\n",
    "# model = load_model('./saved_model/less_imbal2/'+'9x_450k.h5')\n",
    "model = load_model('./saved_model/postreviewV3/'+ 'train' + model_name + '.h5')"
   ]
  },
  {
   "cell_type": "code",
   "execution_count": null,
   "metadata": {},
   "outputs": [],
   "source": []
  }
 ],
 "metadata": {
  "kernelspec": {
   "display_name": "dl_CE7454",
   "language": "python",
   "name": "dl_ce7454"
  },
  "language_info": {
   "codemirror_mode": {
    "name": "ipython",
    "version": 3
   },
   "file_extension": ".py",
   "mimetype": "text/x-python",
   "name": "python",
   "nbconvert_exporter": "python",
   "pygments_lexer": "ipython3",
   "version": "3.6.6"
  }
 },
 "nbformat": 4,
 "nbformat_minor": 2
}
