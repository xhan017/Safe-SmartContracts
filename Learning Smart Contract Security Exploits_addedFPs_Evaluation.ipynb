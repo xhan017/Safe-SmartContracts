{
 "cells": [
  {
   "cell_type": "markdown",
   "metadata": {},
   "source": [
    "# Post-Review-Synthetic-Data-V4.1 Evaluation"
   ]
  },
  {
   "cell_type": "code",
   "execution_count": 7,
   "metadata": {},
   "outputs": [
    {
     "name": "stdout",
     "output_type": "stream",
     "text": [
      "['clean_test_allFP.csv', 'clean_test_greedyFP.csv', 'clean_test_leakFP.csv', 'clean_test_suicidalFP.csv', 'clean_train.csv', 'LsMa', 'no_duplicates', 'old_no_duplicates']\n"
     ]
    }
   ],
   "source": [
    "import numpy as np # linear algebra\n",
    "import pandas as pd # data processing, CSV file I/O (e.g. pd.read_csv)\n",
    "from keras.layers import Dense, Embedding, LSTM, SpatialDropout1D\n",
    "from keras.models import Sequential\n",
    "from sklearn.feature_extraction.text import CountVectorizer\n",
    "from keras.preprocessing.text import Tokenizer\n",
    "from keras.preprocessing.sequence import pad_sequences\n",
    "from sklearn.model_selection import train_test_split\n",
    "from keras.utils.np_utils import to_categorical\n",
    "from keras.callbacks import EarlyStopping\n",
    "\n",
    "# Input data files are available in the \"./input_data/\" directory.\n",
    "import os\n",
    "print(os.listdir(\"./input_data/final\"))\n",
    "os.environ[\"CUDA_DEVICE_ORDER\"]=\"PCI_BUS_ID\"\n",
    "os.environ[\"CUDA_VISIBLE_DEVICES\"]=\"0\"  # specify which GPU(s) to be used\n",
    "import matplotlib.pyplot as plt\n",
    "%matplotlib inline\n",
    "from pandas.tools.plotting import table\n",
    "\n",
    "###################################\n",
    "## extra imports to set GPU options\n",
    "import tensorflow as tf\n",
    "from keras import backend as k\n",
    "\n",
    "# TensorFlow wizardry\n",
    "config = tf.ConfigProto()\n",
    "# Don't pre-allocate memory; allocate as-needed\n",
    "config.gpu_options.allow_growth = True\n",
    "# Only allow a total of half the GPU memory to be allocated\n",
    "config.gpu_options.per_process_gpu_memory_fraction = 0.1\n",
    "# Create a session with the above options specified.\n",
    "k.tensorflow_backend.set_session(tf.Session(config=config))\n",
    "###################################"
   ]
  },
  {
   "cell_type": "markdown",
   "metadata": {},
   "source": [
    "### Defining functions"
   ]
  },
  {
   "cell_type": "code",
   "execution_count": 8,
   "metadata": {},
   "outputs": [],
   "source": [
    "def label(df):    \n",
    "    # label data\n",
    "    df['LABEL'] = 0\n",
    "    df.loc[df['CATEGORY'] == '1 0 0 0', 'LABEL'] = 0\n",
    "    df.loc[df['CATEGORY'] != '1 0 0 0', 'LABEL'] = 1\n",
    "\t\n",
    "def preprocess(df):\n",
    "    n_most_common_words = 1000 #8000\n",
    "    max_len = 130\n",
    "\n",
    "    # Class Tokenizer - This class allows to vectorize a text corpus, by turning each text into either a sequence of integers (each integer being the index of a token in a dictionary)\n",
    "    # tokenizer = Tokenizer(num_words=n_most_common_words, filters='!\"#$%&()*+,-./:;<=>?@[\\]^_`{|}~', lower=True)\n",
    "    tokenizer = Tokenizer(num_words=n_most_common_words, lower=False)\n",
    "\n",
    "    # fit_on_texts - Updates internal vocabulary based on a list of texts. In the case where texts contains lists, we assume each entry of the lists to be a token.\n",
    "    # tokenizer.fit_on_texts(increased_vul['OPCODE'].values)\n",
    "    tokenizer.fit_on_texts(df['OPCODE'].values)\n",
    "\n",
    "    # # Transforms each text in texts in a sequence of integers.\n",
    "    sequences = tokenizer.texts_to_sequences(df['OPCODE'].values)\n",
    "    # sequences = tokenizer.texts_to_sequences(tt)\n",
    "\n",
    "    #Find number of unique words/tokens\n",
    "    word_index = tokenizer.word_index\n",
    "    print('Found %s unique tokens.' % len(word_index))\n",
    "\n",
    "    #pad sequences with zeros in front to make them all maxlen\n",
    "    X = pad_sequences(sequences, maxlen=max_len)\n",
    "    return X\n",
    "\t\n",
    "def dftoXY(df):\n",
    "    # Save test X and y\n",
    "    X_test = preprocess(df)\n",
    "    # label data\n",
    "    label(df)\n",
    "#     df['LABEL'] = 0\n",
    "#     df.loc[df['CATEGORY'] == '1 0 0 0', 'LABEL'] = 0\n",
    "#     df.loc[df['CATEGORY'] != '1 0 0 0', 'LABEL'] = 1\n",
    "    print(pd.value_counts(df['LABEL']))\n",
    "    y_test = to_categorical(df['LABEL'], num_classes=2)\n",
    "    return X_test, y_test    \n",
    "\n",
    "def XandY(posdf, negdf=None):\n",
    "    dfset = pd.concat([posdf, negdf])\n",
    "    dfset = dfset.sample(frac=1, random_state=39, replace=False)\n",
    "\n",
    "    dfset['LABEL'] = 0\n",
    "\n",
    "    #One-hot encode the lab\n",
    "    dfset.loc[dfset['CATEGORY'] == '1 0 0 0', 'LABEL'] = 0\n",
    "    dfset.loc[dfset['CATEGORY'] != '1 0 0 0', 'LABEL'] = 1\n",
    "    # df_train.head()\n",
    "\n",
    "    X, y = dftoXY(dfset)\n",
    "\n",
    "    print('Shape of X: {}'.format(X.shape))\n",
    "\n",
    "    # for sm.fit_sample\n",
    "    y_labels = np.expand_dims(np.array(np.argmax(y, axis=1)), axis=1)\n",
    "    print('Shape of y: {}'.format(y_labels.shape))\n",
    "\n",
    "    return X, y_labels\n",
    "\n",
    "def FPsplit(df, train_frac):\n",
    "    msk = np.random.rand(len(df)) <= train_frac\n",
    "    train_df = df[msk]\n",
    "    test_df = df[~msk]\n",
    "    return train_df, test_df\n"
   ]
  },
  {
   "cell_type": "markdown",
   "metadata": {},
   "source": [
    "# Saving and Loading Trained Model"
   ]
  },
  {
   "cell_type": "code",
   "execution_count": 9,
   "metadata": {},
   "outputs": [],
   "source": [
    "# model_name = \"v3_550KLSTM64epoch100train0.64drop0.55\"\n",
    "model_name = \"BEST_trainv4.1_10KLSTM32epoch80pat7drop0.5ratio0.5leak0.67\""
   ]
  },
  {
   "cell_type": "raw",
   "metadata": {},
   "source": [
    "# Save model to models folder \n",
    "model.save('./saved_model/less_imbal/'+ '6k_40k' + '.h5')"
   ]
  },
  {
   "cell_type": "code",
   "execution_count": 10,
   "metadata": {},
   "outputs": [],
   "source": [
    "# loading previously saved model\n",
    "from keras.models import load_model\n",
    "# model = load_model('./saved_model/postreviewV3/'+ 'train' + model_name + '.h5')\n",
    "model = load_model('./saved_model/postreviewV4.1/'+ model_name + '.h5')"
   ]
  },
  {
   "cell_type": "markdown",
   "metadata": {},
   "source": [
    "# Plot Performance"
   ]
  },
  {
   "cell_type": "code",
   "execution_count": 11,
   "metadata": {},
   "outputs": [],
   "source": [
    "import pickle\n",
    "# infile = open('./saved_model/postreviewV3/' + 'train' + model_name ,'rb')\n",
    "infile = open('./saved_model/postreviewV4.1/' + model_name ,'rb')\n",
    "history0 = pickle.load(infile)\n",
    "infile.close()"
   ]
  },
  {
   "cell_type": "code",
   "execution_count": 38,
   "metadata": {
    "scrolled": true
   },
   "outputs": [
    {
     "data": {
      "image/png": "[encoded data removed]",
      "text/plain": [
       "<Figure size 432x288 with 1 Axes>"
      ]
     },
     "metadata": {},
     "output_type": "display_data"
    }
   ],
   "source": [
    "# acc = history.history['acc']\n",
    "# val_acc = history.history['val_acc']\n",
    "# loss = history.history['loss']\n",
    "# val_loss = history.history['val_loss']\n",
    "\n",
    "acc = history0['acc']\n",
    "val_acc = history0['val_acc']\n",
    "loss = history0['loss']\n",
    "val_loss = history0['val_loss']\n",
    "\n",
    "\n",
    "epochs = range(1, len(acc) + 1)\n",
    "\n",
    "fig = plt.figure()\n",
    "plt.xlabel('Epochs')\n",
    "plt.ylabel('Accuracy')\n",
    "plt.plot(epochs, acc, 'bo', label='Training acc')\n",
    "plt.plot(epochs, val_acc, 'b', label='Validation acc')\n",
    "plt.title('Training and validation accuracy')\n",
    "plt.legend()\n",
    "\n",
    "# fig.savefig('./figures/postreviewV4.1/Accr_trainandval_' + model_name + '.png',dpi=300)"
   ]
  },
  {
   "cell_type": "code",
   "execution_count": 39,
   "metadata": {},
   "outputs": [
    {
     "data": {
      "image/png": "[encoded data removed]",
      "text/plain": [
       "<Figure size 432x288 with 1 Axes>"
      ]
     },
     "metadata": {},
     "output_type": "display_data"
    }
   ],
   "source": [
    "fig = plt.figure()\n",
    "plt.xlabel('Epochs')\n",
    "plt.ylabel('Loss')\n",
    "plt.plot(epochs, loss, 'bo', label='Training loss')\n",
    "plt.plot(epochs, val_loss, 'b', label='Validation loss')\n",
    "plt.title('Training and validation loss')\n",
    "plt.legend()\n",
    "\n",
    "plt.show()\n",
    "# fig.savefig('./figures/postreviewV4.1/Loss_trainandval_' + model_name + '.png',dpi=300)"
   ]
  },
  {
   "cell_type": "markdown",
   "metadata": {},
   "source": [
    "# Collecting and saving flagged negatives for validation"
   ]
  },
  {
   "cell_type": "raw",
   "metadata": {},
   "source": [
    "norm_check = pd.read_pickle('./saved_model/postreviewV3/'+ 'neg_notused_' + model_name + '.pkl')\n",
    "print(pd.value_counts(norm_check['CATEGORY']))\n",
    "\n",
    "num_check = 10000\n",
    "norm_check = norm_check.sample(num_check, random_state=39, replace=False)\n",
    "\n",
    "checkset = pd.concat([norm_check], ignore_index=True)\n",
    "checkset = checkset.sample(frac=1, random_state=39, replace=False)"
   ]
  },
  {
   "cell_type": "raw",
   "metadata": {},
   "source": [
    "X_check, y_check = dftoXY(checkset) \n",
    "checkset_accr = model.evaluate(X_check,y_check)\n",
    "print('Tr test set\\n  Loss: {:0.4f}\\n  Accuracy: {:0.4f}'.format(checkset_accr[0],checkset_accr[1]))"
   ]
  },
  {
   "cell_type": "raw",
   "metadata": {},
   "source": [
    "pred_neg = model.predict(X_check, verbose=1)"
   ]
  },
  {
   "cell_type": "raw",
   "metadata": {},
   "source": [
    "predneg = np.count_nonzero(pred_neg[:,1] > 0.5)\n",
    "predneg_accr = predneg / len(pred_neg)\n",
    "print('Percentage of Negatives Flagged: {:0.4f}'.format(predneg_accr))\n",
    "\n",
    "LSTM_pos = np.nonzero(pred_neg[:,1] > 0.5)\n",
    "np.array(np.nonzero(pred_neg[:,1] > 0.5)).shape\n",
    "\n",
    "# Saving flagged contracts to csv file\n",
    "lstm_Negflagged = norm_check.iloc[LSTM_pos]\n",
    "print('Number of Contracts Flagged:', len(lstm_Negflagged))\n",
    "\n",
    "# lstm_Negflagged.to_csv ('./output_data/postreviewV3/lstm_flaggedNeg.csv', index = None, header=True)"
   ]
  },
  {
   "cell_type": "raw",
   "metadata": {},
   "source": [
    "# Saving unflagged contracts to csv file\n",
    "LSTM_neg = np.nonzero(pred_neg[:,1] <= 0.5)\n",
    "lstm_unflagged = norm_check.iloc[LSTM_neg]\n",
    "print('Number of Contracts Unflagged:', len(lstm_unflagged))\n",
    "\n",
    "# lstm_unflagged.to_csv ('./output_data/postreviewV3/lstm_unflagged.csv', index = None, header=True)"
   ]
  },
  {
   "cell_type": "raw",
   "metadata": {},
   "source": [
    "fig = plt.figure()\n",
    "plt.hist(pred_neg[:,1])\n",
    "plt.xlabel('Prediction (less than 0.5 (Not vulnerable), greater than 0.5 (Vulnerable))')\n",
    "plt.ylabel('Number of samples')\n",
    "plt.title('Distribution of LSTM Prediction on Unflagged Contracts')\n",
    "\n",
    "# fig.savefig('./figures/postreviewV3/lstm_10KflaggedNeg_' + model_name + '.png',dpi=300)"
   ]
  },
  {
   "cell_type": "code",
   "execution_count": null,
   "metadata": {},
   "outputs": [],
   "source": []
  },
  {
   "cell_type": "code",
   "execution_count": null,
   "metadata": {},
   "outputs": [],
   "source": []
  },
  {
   "cell_type": "markdown",
   "metadata": {},
   "source": [
    "# All test FPs"
   ]
  },
  {
   "cell_type": "raw",
   "metadata": {},
   "source": [
    "### Loading the dataset"
   ]
  },
  {
   "cell_type": "raw",
   "metadata": {},
   "source": [
    "# Loading and reading csv input data \n",
    "\n",
    "# all_testset = 'clean_test_allFP_noDups.csv'\n",
    "leakFP = 'clean_test_leakFP_noDups.csv'\n",
    "suicidalFP = 'clean_test_suicidalFP_noDups.csv'\n",
    "greedyFP = 'clean_test_greedyFP_noDups.csv'\n",
    "\n",
    "leakFP_test = pd.read_csv('./input_data/final/no_duplicates/'+leakFP, usecols=['ADDRESS', 'OPCODE', 'CATEGORY'])\n",
    "suicidalFP_test = pd.read_csv('./input_data/final/no_duplicates/'+suicidalFP, usecols=['ADDRESS', 'OPCODE', 'CATEGORY'])\n",
    "greedyFP_test = pd.read_csv('./input_data/final/no_duplicates/'+greedyFP, usecols=['ADDRESS', 'OPCODE', 'CATEGORY'])\n",
    "\n",
    "# leakFP_test.head()"
   ]
  },
  {
   "cell_type": "raw",
   "metadata": {
    "scrolled": true
   },
   "source": [
    "X_leakFP, y_leakFP = dftoXY(leakFP_test)\n",
    "leakFP_accr = model.evaluate(X_leakFP,y_leakFP)\n",
    "print('Leak test set\\n  Loss: {:0.4f}\\n  Accuracy: {:0.4f}'.format(leakFP_accr[0],leakFP_accr[1]))\n",
    "\n",
    "X_suicidalFP, y_suicidalFP = dftoXY(suicidalFP_test)\n",
    "suicidalFP_accr = model.evaluate(X_suicidalFP,y_suicidalFP)\n",
    "print('Suicidal test set\\n  Loss: {:0.4f}\\n  Accuracy: {:0.4f}'.format(suicidalFP_accr[0],suicidalFP_accr[1]))\n",
    "\n",
    "X_greedyFP, y_greedyFP = dftoXY(greedyFP_test)\n",
    "greedyFP_accr = model.evaluate(X_greedyFP,y_greedyFP)\n",
    "print('Greedy test set\\n  Loss: {:0.4f}\\n  Accuracy: {:0.4f}'.format(greedyFP_accr[0],greedyFP_accr[1]))"
   ]
  },
  {
   "cell_type": "code",
   "execution_count": null,
   "metadata": {},
   "outputs": [],
   "source": []
  },
  {
   "cell_type": "markdown",
   "metadata": {},
   "source": [
    "# ADDED Evaluation Measures"
   ]
  },
  {
   "cell_type": "markdown",
   "metadata": {},
   "source": [
    "### Saving and Loading Trained Model"
   ]
  },
  {
   "cell_type": "code",
   "execution_count": 14,
   "metadata": {},
   "outputs": [],
   "source": [
    "# model_name = \"v3_550KLSTM64epoch100train0.64drop0.55\"\n",
    "model_name = \"BEST_trainv4.1_10KLSTM32epoch80pat7drop0.5ratio0.5leak0.67\""
   ]
  },
  {
   "cell_type": "code",
   "execution_count": 15,
   "metadata": {},
   "outputs": [],
   "source": [
    "# loading previously saved model\n",
    "from keras.models import load_model\n",
    "# model = load_model('./saved_model/postreviewV3/'+ 'train' + model_name + '.h5')\n",
    "model = load_model('./saved_model/postreviewV4.1/'+ model_name + '.h5')"
   ]
  },
  {
   "cell_type": "code",
   "execution_count": 17,
   "metadata": {},
   "outputs": [],
   "source": [
    "# split positives dataset into train, val, and test\n",
    "proportion_train = 0.64 #0.7 \n",
    "proportion_val = 0.16 #0.1 \n",
    "proportion_test = 0.2 #0.20\n",
    "\n",
    "# set number of samples in each set\n",
    "num_neg_train = 10000 #550000 #350000 #30000 #11000\n",
    "\n",
    "# Init\n",
    "epochs = 80\n",
    "emb_dim = 128 #150\n",
    "batch_size = 256 #512   \n",
    "\n",
    "# LSTM Model\n",
    "# tune Dropout(0.6) and LSTM 64 or 32\n",
    "ratioFP = 0.5\n",
    "FPtrain_frac = 0.8\n",
    "leak_frac = 0.67\n",
    "\n",
    "dropout = 0.5\n",
    "LSTM_units = 32 #64"
   ]
  },
  {
   "cell_type": "code",
   "execution_count": 18,
   "metadata": {},
   "outputs": [
    {
     "name": "stdout",
     "output_type": "stream",
     "text": [
      "8640\n"
     ]
    }
   ],
   "source": [
    "# ============== Loading and reading csv input data ============== \n",
    "dataset = 'clean_train.csv'\n",
    "data = pd.read_csv('./input_data/final/'+dataset, usecols=['ADDRESS', 'OPCODE', 'CATEGORY'])\n",
    "\n",
    "# shuffled = data.reindex(np.random.permutation(data.index))\n",
    "shuffled = data\n",
    "\n",
    "# shuffled = data\n",
    "n = shuffled[shuffled['CATEGORY'] == '1 0 0 0'] # no vulnerabilities\n",
    "s = shuffled[shuffled['CATEGORY'] == '0 1 0 0'] # suicidal\n",
    "p = shuffled[shuffled['CATEGORY'] == '0 0 1 0'] # prodigal\n",
    "g = shuffled[shuffled['CATEGORY'] == '0 0 0 1'] # greedy\n",
    "sp = shuffled[shuffled['CATEGORY'] == '0 1 1 0'] # suicidal and prodigal\n",
    "\n",
    "# ========== set of vul contracts ========== \n",
    "# shuffle positives dataset\n",
    "positives = pd.concat([s,p,g,sp])\n",
    "positives_shuf = positives.sample(frac=1, random_state=39, replace=False)\n",
    "print(len(positives_shuf))\n",
    "\t\n",
    "# # split positives dataset into train, val, and test\n",
    "# proportion_train = 0.64 #0.7 \n",
    "# proportion_val = 0.16 #0.1 \n",
    "# proportion_test = 0.2 #0.20\n",
    "\t\n",
    "num_pos_train = round(len(positives_shuf) * proportion_train)\n",
    "num_pos_val = round(len(positives_shuf) * proportion_val)\n",
    "\n",
    "pos_train = positives_shuf.iloc[0:num_pos_train] \n",
    "pos_val = positives_shuf.iloc[num_pos_train:(num_pos_train+num_pos_val)]\n",
    "pos_test = positives_shuf.iloc[(num_pos_train+num_pos_val):]\n",
    "\t\n",
    "# ========== set of non-vul contracts ========== \n",
    "# # shuffle set n\n",
    "n_shuf = n.sample(frac=1, random_state=39, replace=False)\n",
    "\n",
    "n_shuf['FP'] = 0\n",
    "# set number of samples in each set\n",
    "# num_neg_train = 9000 #30000 #11000\n",
    "num_neg_val = round(((num_neg_train)/proportion_train)*proportion_val)\n",
    "num_neg_test = round(((num_neg_train)/proportion_train)*proportion_test)\n",
    "\n",
    "neg_train = n_shuf.iloc[0:num_neg_train]\n",
    "neg_val = n_shuf.iloc[num_neg_train:(num_neg_train+num_neg_val)]\n",
    "neg_test = n_shuf.iloc[(num_neg_train+num_neg_val):(num_neg_train+num_neg_val+num_neg_test)]"
   ]
  },
  {
   "cell_type": "code",
   "execution_count": 19,
   "metadata": {},
   "outputs": [
    {
     "name": "stdout",
     "output_type": "stream",
     "text": [
      "Total Number of Leak FPs:  177\n",
      "Total Number of Suicidal FPs:  72\n",
      "Total Number of Greedy FPs:  202\n",
      "Number of Leak FPs for Training:  118\n",
      "Number of Leak FPs for Test:  59\n",
      "Number of Suicidal FPs for Training:  58\n",
      "Number of Suicidal FPs for Test:  14\n",
      "Number of Lock FPs for Training:  160\n",
      "Number of Lock FPs for Test:  42\n",
      "Number of FPs:  336\n",
      "Found 150 unique tokens.\n",
      "Found 150 unique tokens.\n",
      "Found 150 unique tokens.\n",
      "Shape of X: (10215, 130)\n",
      "Shape of y: (10215, 1)\n",
      "Shape of X: (2554, 130)\n",
      "Shape of y: (2554, 1)\n",
      "Shape of X: (3192, 130)\n",
      "Shape of y: (3192, 1)\n",
      "Number transactions X_negtrain dataset:  (10215, 130)\n",
      "Number transactions y_negtrain dataset:  (10215, 1)\n",
      "Before OverSampling, train counts of label '1': [215]\n",
      "Before OverSampling, train counts of label '0': [10000]\n",
      "Before OverSampling, val counts of label '1': [54]\n",
      "Before OverSampling, val counts of label '0': [2500]\n",
      "Before OverSampling, test counts of label '1': [67]\n",
      "Before OverSampling, test counts of label '0': [3125]\n",
      "After OverSampling, the shape of train_X: (15000, 130)\n",
      "After OverSampling, the shape of train_y: (15000,)\n",
      "After OverSampling, the shape of val_X: (3750, 130)\n",
      "After OverSampling, the shape of val_y: (3750,)\n",
      "After OverSampling, the shape of test_X: (4687, 130)\n",
      "After OverSampling, the shape of test_y: (4687,)\n"
     ]
    },
    {
     "name": "stderr",
     "output_type": "stream",
     "text": [
      "/home/wesley/miniconda3/envs/deeplearn_CE7454/lib/python3.6/site-packages/sklearn/utils/deprecation.py:77: DeprecationWarning: Function _ratio_float is deprecated; Use a float for 'ratio' is deprecated from version 0.2. The support will be removed in 0.4. Use a dict, str, or a callable instead.\n",
      "  warnings.warn(msg, category=DeprecationWarning)\n",
      "/home/wesley/miniconda3/envs/deeplearn_CE7454/lib/python3.6/site-packages/sklearn/utils/deprecation.py:77: DeprecationWarning: Function _ratio_float is deprecated; Use a float for 'ratio' is deprecated from version 0.2. The support will be removed in 0.4. Use a dict, str, or a callable instead.\n",
      "  warnings.warn(msg, category=DeprecationWarning)\n",
      "/home/wesley/miniconda3/envs/deeplearn_CE7454/lib/python3.6/site-packages/sklearn/utils/deprecation.py:77: DeprecationWarning: Function _ratio_float is deprecated; Use a float for 'ratio' is deprecated from version 0.2. The support will be removed in 0.4. Use a dict, str, or a callable instead.\n",
      "  warnings.warn(msg, category=DeprecationWarning)\n"
     ]
    }
   ],
   "source": [
    "# ========== adding FPs into non-vul training set ========== \n",
    "# FPs = \"clean_test_allFP_noDups.csv\"\n",
    "# allFPs = pd.read_csv('./input_data/final/no_duplicates/'+ FPs, usecols=['ADDRESS', 'OPCODE', 'CATEGORY'])\n",
    "# all_testset = 'clean_test_allFP_noDups.csv'\n",
    "leakFP = 'clean_test_leakFP_noDups.csv'\n",
    "suicidalFP = 'clean_test_suicidalFP_noDups.csv'\n",
    "greedyFP = 'clean_test_greedyFP_noDups.csv'\n",
    "\n",
    "leakFPs = pd.read_csv('./input_data/final/no_duplicates/'+leakFP, usecols=['ADDRESS', 'OPCODE', 'CATEGORY'])\n",
    "print(\"Total Number of Leak FPs: \", len(leakFPs))\n",
    "suicidalFPs = pd.read_csv('./input_data/final/no_duplicates/'+suicidalFP, usecols=['ADDRESS', 'OPCODE', 'CATEGORY'])\n",
    "print(\"Total Number of Suicidal FPs: \", len(suicidalFPs))\n",
    "greedyFPs = pd.read_csv('./input_data/final/no_duplicates/'+greedyFP, usecols=['ADDRESS', 'OPCODE', 'CATEGORY'])\n",
    "print(\"Total Number of Greedy FPs: \", len(greedyFPs))\n",
    "\n",
    "# Split FPs into training and test set\n",
    "# FPtrain_frac = 0.8\n",
    "def FPsplit(df, train_frac):\n",
    "    msk = np.random.rand(len(df)) <= train_frac\n",
    "    train_df = df[msk]\n",
    "    test_df = df[~msk]\n",
    "    return train_df, test_df\n",
    "\n",
    "train_leakFPs, test_leakFPs = FPsplit(leakFPs, leak_frac)\n",
    "print(\"Number of Leak FPs for Training: \", len(train_leakFPs))\n",
    "print(\"Number of Leak FPs for Test: \", len(test_leakFPs))\n",
    "\n",
    "train_suicidalFPs, test_suicidalFPs = FPsplit(suicidalFPs, FPtrain_frac)\n",
    "print(\"Number of Suicidal FPs for Training: \", len(train_suicidalFPs))\n",
    "print(\"Number of Suicidal FPs for Test: \", len(test_suicidalFPs))\n",
    "\n",
    "train_lockFPs, test_lockFPs = FPsplit(greedyFPs, FPtrain_frac)\n",
    "print(\"Number of Lock FPs for Training: \", len(train_lockFPs))\n",
    "print(\"Number of Lock FPs for Test: \", len(test_lockFPs))\n",
    "\n",
    "trainFPs = pd.concat([train_leakFPs, train_suicidalFPs, train_lockFPs])\n",
    "\n",
    "# add column to classify FPs and non-FPs\n",
    "trainFPs['FP'] = 1\n",
    "\n",
    "numFPs = len(trainFPs)\n",
    "# print(\"Number of Original Negatives: \", len(neg_train))\n",
    "print(\"Number of FPs: \", numFPs) #allFPs\n",
    "\n",
    "# set number of samples in each set\n",
    "numtrainFPs = round(numFPs*proportion_train)\n",
    "numvalFPs = round(numFPs*proportion_val)\n",
    "numtestFPs = numFPs - numtrainFPs - numvalFPs\n",
    "\n",
    "FP_train = trainFPs.iloc[0:numtrainFPs]\n",
    "FP_val = trainFPs.iloc[numtrainFPs:(numtrainFPs+numvalFPs)]\n",
    "FP_test = trainFPs.iloc[(numtrainFPs+numvalFPs):(numtrainFPs+numvalFPs+numtestFPs)]\n",
    "\n",
    "\t\n",
    "# Concatenate dfs\n",
    "negtrain_addFP = pd.concat([neg_train, FP_train])\n",
    "negval_addFP = pd.concat([neg_val, FP_val])\n",
    "negtest_addFP = pd.concat([neg_test, FP_test])\n",
    "# Shuffle df\n",
    "negtrain_addFP = negtrain_addFP.sample(frac=1, random_state=39, replace=False)\n",
    "negval_addFP = negval_addFP.sample(frac=1, random_state=39, replace=False)\n",
    "negtest_addFP = negtest_addFP.sample(frac=1, random_state=39, replace=False)\n",
    "# Processing X and y\n",
    "Xnegtrain_addFP = preprocess(negtrain_addFP)\n",
    "ynegtrain_addFP = to_categorical(negtrain_addFP['FP'], num_classes=2)\n",
    "Xnegval_addFP = preprocess(negval_addFP)\n",
    "ynegval_addFP = to_categorical(negval_addFP['FP'], num_classes=2)\n",
    "Xnegtest_addFP = preprocess(negtest_addFP)\n",
    "ynegtest_addFP = to_categorical(negtest_addFP['FP'], num_classes=2)\n",
    "# for sm.fit_sample\n",
    "ynegtrain_addFP_labels = np.expand_dims(np.array(np.argmax(ynegtrain_addFP, axis=1)), axis=1)\n",
    "print('Shape of X: {}'.format(Xnegtrain_addFP.shape))\n",
    "print('Shape of y: {}'.format(ynegtrain_addFP_labels.shape))\n",
    "ynegval_addFP_labels = np.expand_dims(np.array(np.argmax(ynegval_addFP, axis=1)), axis=1)\n",
    "print('Shape of X: {}'.format(Xnegval_addFP.shape))\n",
    "print('Shape of y: {}'.format(ynegval_addFP_labels.shape))\n",
    "ynegtest_addFP_labels = np.expand_dims(np.array(np.argmax(ynegtest_addFP, axis=1)), axis=1)\n",
    "print('Shape of X: {}'.format(Xnegtest_addFP.shape))\n",
    "print('Shape of y: {}'.format(ynegtest_addFP_labels.shape))\n",
    "\n",
    "# Prepare train set \n",
    "# Xneg_train, ynegtrain_labels = XandY(neg_train, allFPs, label='FP')\n",
    "print(\"Number transactions X_negtrain dataset: \", Xnegtrain_addFP.shape)\n",
    "print(\"Number transactions y_negtrain dataset: \", ynegtrain_addFP_labels.shape)\n",
    "print(\"Before OverSampling, train counts of label '1': {}\".format(sum(ynegtrain_addFP_labels==1)))\n",
    "print(\"Before OverSampling, train counts of label '0': {}\".format(sum(ynegtrain_addFP_labels==0)))\n",
    "print(\"Before OverSampling, val counts of label '1': {}\".format(sum(ynegval_addFP_labels==1)))\n",
    "print(\"Before OverSampling, val counts of label '0': {}\".format(sum(ynegval_addFP_labels==0)))\n",
    "print(\"Before OverSampling, test counts of label '1': {}\".format(sum(ynegtest_addFP_labels==1)))\n",
    "print(\"Before OverSampling, test counts of label '0': {}\".format(sum(ynegtest_addFP_labels==0)))\n",
    "\n",
    "from imblearn.over_sampling import SMOTE\n",
    "smt = SMOTE(ratio=ratioFP, random_state=39)\n",
    "\n",
    "Xnegtrain_res, ynegtrain_res = smt.fit_sample(Xnegtrain_addFP, ynegtrain_addFP_labels.ravel())\n",
    "Xnegval_res, ynegval_res = smt.fit_sample(Xnegval_addFP, ynegval_addFP_labels.ravel())\n",
    "Xnegtest_res, ynegtest_res = smt.fit_sample(Xnegtest_addFP, ynegtest_addFP_labels.ravel())\n",
    "\n",
    "print('After OverSampling, the shape of train_X: {}'.format(Xnegtrain_res.shape))\n",
    "print('After OverSampling, the shape of train_y: {}'.format(ynegtrain_res.shape))\n",
    "print('After OverSampling, the shape of val_X: {}'.format(Xnegval_res.shape))\n",
    "print('After OverSampling, the shape of val_y: {}'.format(ynegval_res.shape))\n",
    "print('After OverSampling, the shape of test_X: {}'.format(Xnegtest_res.shape))\n",
    "print('After OverSampling, the shape of test_y: {}'.format(ynegtest_res.shape))\n",
    "\n",
    "# change all neg labels to zero\n",
    "ynegtrain_res = np.zeros(len(ynegtrain_res))\n",
    "ynegval_res = np.zeros(len(ynegval_res))\n",
    "ynegtest_res = np.zeros(len(ynegtest_res))"
   ]
  },
  {
   "cell_type": "code",
   "execution_count": 20,
   "metadata": {},
   "outputs": [
    {
     "name": "stdout",
     "output_type": "stream",
     "text": [
      "Found 150 unique tokens.\n",
      "1    5530\n",
      "Name: LABEL, dtype: int64\n",
      "Shape of X: (5530, 130)\n",
      "Shape of y: (5530, 1)\n",
      "Found 150 unique tokens.\n",
      "1    1382\n",
      "Name: LABEL, dtype: int64\n",
      "Shape of X: (1382, 130)\n",
      "Shape of y: (1382, 1)\n",
      "Found 150 unique tokens.\n",
      "1    1728\n",
      "Name: LABEL, dtype: int64\n",
      "Shape of X: (1728, 130)\n",
      "Shape of y: (1728, 1)\n",
      "Number transactions X_train dataset:  (20530, 130)\n",
      "Number transactions y_train dataset:  (20530, 1)\n",
      "Number transactions X_val dataset:  (5132, 130)\n",
      "Number transactions y_val dataset:  (5132, 1)\n",
      "Number transactions X_test dataset:  (6415, 130)\n",
      "Number transactions y_test dataset:  (6415, 1)\n",
      "Before OverSampling, counts of label '1': [5530]\n",
      "Before OverSampling, counts of label '0': [15000]\n",
      "Before OverSampling, counts of label '1': [1382]\n",
      "Before OverSampling, counts of label '0': [3750]\n",
      "Before OverSampling, counts of label '1': [1728]\n",
      "Before OverSampling, counts of label '0': [4687] \n",
      "\n"
     ]
    }
   ],
   "source": [
    "### ============ Resampling samples ============ ###\n",
    "def arrayXandY(Xarray1, Xarray2, yarray1, yarray2):\n",
    "    X = np.concatenate((Xarray1, Xarray2),axis=0)\n",
    "    yarray2 = np.expand_dims(np.array(yarray2), axis=1)\n",
    "    y_labels = np.concatenate((yarray1, yarray2),axis=0)\n",
    "    \n",
    "    return X, y_labels\n",
    "\n",
    "# Prepare train set \n",
    "# X_train, ytrain_labels = XandY(pos_train, neg_train)\n",
    "Xpos_train, ypostrain_labels = XandY(pos_train)\n",
    "X_train, ytrain_labels = arrayXandY(Xpos_train, Xnegtrain_res, ypostrain_labels, ynegtrain_res)\n",
    "\n",
    "# Prepare validation set \n",
    "Xpos_val, yposval_labels = XandY(pos_val)\n",
    "X_val, yval_labels = arrayXandY(Xpos_val, Xnegval_res, yposval_labels, ynegval_res)\n",
    "\n",
    "# Prepare test set \n",
    "Xpos_test, ypostest_labels = XandY(pos_test)\n",
    "X_test, ytest_labels = arrayXandY(Xpos_test, Xnegtest_res, ypostest_labels, ynegtest_res)\n",
    "\n",
    "from sklearn.utils import shuffle\n",
    "# shuffle train set\n",
    "X_train, ytrain_labels = shuffle(X_train, ytrain_labels, random_state=39)\n",
    "X_val, yval_labels = shuffle(X_val, yval_labels, random_state=39)\n",
    "X_test, ytest_labels = shuffle(X_test, ytest_labels, random_state=39)\n",
    "\n",
    "print(\"Number transactions X_train dataset: \", X_train.shape)\n",
    "print(\"Number transactions y_train dataset: \", ytrain_labels.shape)\n",
    "print(\"Number transactions X_val dataset: \", X_val.shape)\n",
    "print(\"Number transactions y_val dataset: \", yval_labels.shape)\n",
    "print(\"Number transactions X_test dataset: \", X_test.shape)\n",
    "print(\"Number transactions y_test dataset: \", ytest_labels.shape)\n",
    "\n",
    "print(\"Before OverSampling, counts of label '1': {}\".format(sum(ytrain_labels==1)))\n",
    "print(\"Before OverSampling, counts of label '0': {}\".format(sum(ytrain_labels==0)))\n",
    "print(\"Before OverSampling, counts of label '1': {}\".format(sum(yval_labels==1)))\n",
    "print(\"Before OverSampling, counts of label '0': {}\".format(sum(yval_labels==0)))\n",
    "print(\"Before OverSampling, counts of label '1': {}\".format(sum(ytest_labels==1)))\n",
    "print(\"Before OverSampling, counts of label '0': {} \\n\".format(sum(ytest_labels==0)))\n"
   ]
  },
  {
   "cell_type": "code",
   "execution_count": 21,
   "metadata": {},
   "outputs": [
    {
     "name": "stdout",
     "output_type": "stream",
     "text": [
      "After OverSampling, the shape of train_X: (30000, 130)\n",
      "After OverSampling, the shape of train_y: (30000,)\n",
      "After OverSampling, the shape of val_X: (7500, 130)\n",
      "After OverSampling, the shape of val_y: (7500,)\n",
      "After OverSampling, the shape of test_X: (9374, 130)\n",
      "After OverSampling, the shape of test_y: (9374,) \n",
      "\n",
      "After OverSampling, counts of train label '1': 15000\n",
      "After OverSampling, counts of train label '0': 15000\n",
      "After OverSampling, counts of val label '1': 3750\n",
      "After OverSampling, counts of val label '0': 3750\n",
      "After OverSampling, counts of test label '1': 4687\n",
      "After OverSampling, counts of test label '0': 4687\n"
     ]
    }
   ],
   "source": [
    "# ============ Resample ============ \n",
    "# from imblearn.over_sampling import SMOTE\n",
    "sm = SMOTE(random_state=39)\n",
    "X_train_res, y_train_res = sm.fit_sample(X_train, ytrain_labels.ravel())\n",
    "X_val_res, y_val_res = sm.fit_sample(X_val, yval_labels.ravel())\n",
    "X_test_res, y_test_res = sm.fit_sample(X_test, ytest_labels.ravel())\n",
    "\n",
    "print('After OverSampling, the shape of train_X: {}'.format(X_train_res.shape))\n",
    "print('After OverSampling, the shape of train_y: {}'.format(y_train_res.shape))\n",
    "print('After OverSampling, the shape of val_X: {}'.format(X_val_res.shape))\n",
    "print('After OverSampling, the shape of val_y: {}'.format(y_val_res.shape))\n",
    "print('After OverSampling, the shape of test_X: {}'.format(X_test_res.shape))\n",
    "print('After OverSampling, the shape of test_y: {} \\n'.format(y_test_res.shape))\n",
    "\n",
    "print(\"After OverSampling, counts of train label '1': {}\".format(sum(y_train_res==1)))\n",
    "print(\"After OverSampling, counts of train label '0': {}\".format(sum(y_train_res==0)))\n",
    "print(\"After OverSampling, counts of val label '1': {}\".format(sum(y_val_res==1)))\n",
    "print(\"After OverSampling, counts of val label '0': {}\".format(sum(y_val_res==0)))\n",
    "print(\"After OverSampling, counts of test label '1': {}\".format(sum(y_test_res==1)))\n",
    "print(\"After OverSampling, counts of test label '0': {}\".format(sum(y_test_res==0)))\n"
   ]
  },
  {
   "cell_type": "raw",
   "metadata": {},
   "source": [
    "ytrainres_cat = to_categorical(y_train_res, num_classes=2)\n",
    "yvalres_cat = to_categorical(y_val_res, num_classes=2)\n",
    "ytestres_cat = to_categorical(y_test_res, num_classes=2)\n",
    "\n",
    "print((X_train_res.shape, ytrainres_cat.shape, X_val_res.shape, yvalres_cat.shape, X_test_res.shape, ytestres_cat.shape))"
   ]
  },
  {
   "cell_type": "code",
   "execution_count": 32,
   "metadata": {},
   "outputs": [
    {
     "name": "stdout",
     "output_type": "stream",
     "text": [
      "Average Precision Score: 0.9566\n",
      "\n",
      "Recall Score: 0.9462\n",
      "\n"
     ]
    }
   ],
   "source": [
    "# ============== Evaluation ==============\n",
    "\n",
    "# Test accuracy\n",
    "ytestres_cat = to_categorical(y_test_res, num_classes=2)\n",
    "accr = model.evaluate(X_test_res, ytestres_cat)\n",
    "print('Test set\\n  Loss: {:0.4f}\\n  Accuracy: {:0.4f}'.format(accr[0],accr[1]))\n",
    "\n",
    "# To calculate precision and recall\n",
    "y_pred = model.predict_classes(X_test_res, batch_size=32, verbose=0)\n",
    "ytest_true = y_test_res\n",
    "\n",
    "from sklearn.metrics import average_precision_score\n",
    "# Compute the average precision score\n",
    "average_precision = average_precision_score(ytest_true, y_pred)\n",
    "print('Average Precision Score: {:0.4f}\\n'.format(average_precision))\n",
    "\n",
    "# Compute the recall\n",
    "from sklearn.metrics import precision_recall_curve\n",
    "from sklearn.utils.fixes import signature\n",
    "\n",
    "precision, recall, _ = precision_recall_curve(ytest_true, y_pred)\n",
    "print('Recall Score: {:0.4f}\\n'.format(recall[1]))"
   ]
  },
  {
   "cell_type": "code",
   "execution_count": 33,
   "metadata": {},
   "outputs": [],
   "source": [
    "# ============== ADDED Evaluation ==============\n",
    "from sklearn.metrics import precision_score, \\\n",
    "    recall_score, confusion_matrix, classification_report, \\\n",
    "    accuracy_score, f1_score\n",
    "\n",
    "# print('Accuracy:', accuracy_score(ytest_true, y_pred))\n",
    "# print('Recall:', recall_score(ytest_true, y_pred))\n",
    "# print('Precision:', precision_score(ytest_true, y_pred))\n",
    "# print('F1 score:', f1_score(ytest_true, y_pred))\n",
    "# print('\\n clasification report:\\n', classification_report(ytest_true, y_pred))\n",
    "# print('\\n confusion matrix:\\n',confusion_matrix(ytest_true, y_pred))"
   ]
  },
  {
   "cell_type": "code",
   "execution_count": 34,
   "metadata": {},
   "outputs": [
    {
     "name": "stdout",
     "output_type": "stream",
     "text": [
      "Accuracy: 0.9647\n",
      "\n",
      "Recall: 0.9462\n",
      "\n",
      "Precision: 0.9825\n",
      "\n",
      "F1 score: 0.9640\n",
      "\n",
      "\n",
      " confusion matrix:\n",
      " [[4608   79]\n",
      " [ 252 4435]]\n",
      "\n",
      " clasification report:\n",
      "              precision    recall  f1-score   support\n",
      "\n",
      "        0.0       0.95      0.98      0.97      4687\n",
      "        1.0       0.98      0.95      0.96      4687\n",
      "\n",
      "avg / total       0.97      0.96      0.96      9374\n",
      "\n"
     ]
    }
   ],
   "source": [
    "# The set of labels predicted for a sample must exactly match the corresponding set of labels in y_true.\n",
    "print('Accuracy: {:0.4f}\\n'.format(accuracy_score(ytest_true, y_pred)))\n",
    "# The recall is the ratio tp / (tp + fn) where tp is the number of true positives and fn the number of false negatives. The recall is intuitively the ability of the classifier to find all the positive samples.\n",
    "print('Recall: {:0.4f}\\n'.format(recall_score(ytest_true, y_pred)))\n",
    "# The precision is the ratio tp / (tp + fp) where tp is the number of true positives and fp the number of false positives. The precision is intuitively the ability of the classifier not to label as positive a sample that is negative.\n",
    "print('Precision: {:0.4f}\\n'.format(precision_score(ytest_true, y_pred)))\n",
    "# The F1 score can be interpreted as a weighted average of the precision and recall, where an F1 score reaches its best value at 1 and worst score at 0.\n",
    "print('F1 score: {:0.4f}\\n'.format(f1_score(ytest_true, y_pred)))\n",
    "\n",
    "# In binary classification, the count of true negatives is C_{0,0}, false negatives is C_{1,0}, true positives is C_{1,1} and false positives is C_{0,1}.\n",
    "print('\\n confusion matrix:\\n',confusion_matrix(ytest_true, y_pred))\n",
    "# Overview of all scores\n",
    "print('\\n clasification report:\\n', classification_report(ytest_true, y_pred))"
   ]
  },
  {
   "cell_type": "code",
   "execution_count": 35,
   "metadata": {},
   "outputs": [
    {
     "name": "stdout",
     "output_type": "stream",
     "text": [
      "ROC AUC score: 0.9647\n",
      "\n"
     ]
    }
   ],
   "source": [
    "from sklearn.metrics import roc_curve, auc, roc_auc_score    \n",
    "# Compute Receiver operating characteristic (ROC). Restricted to the binary classification task\n",
    "fpr, tpr, threshold = roc_curve(ytest_true, y_pred)\n",
    "roc_auc = auc(fpr, tpr)\n",
    "print('ROC AUC score: {:0.4f}\\n'.format(roc_auc_score(ytest_true, y_pred)))"
   ]
  },
  {
   "cell_type": "code",
   "execution_count": 40,
   "metadata": {},
   "outputs": [
    {
     "data": {
      "image/png": "[encoded data removed]",
      "text/plain": [
       "<Figure size 432x288 with 1 Axes>"
      ]
     },
     "metadata": {},
     "output_type": "display_data"
    }
   ],
   "source": [
    "# method I: plt\n",
    "import matplotlib.pyplot as plt\n",
    "plt.title('Receiver Operating Characteristic')\n",
    "plt.plot(fpr, tpr, 'b', label = 'AUC = %0.2f' % roc_auc)\n",
    "plt.legend(loc = 'lower right')\n",
    "plt.plot([0, 1], [0, 1],'r--')\n",
    "plt.xlim([0, 1])\n",
    "plt.ylim([0, 1])\n",
    "plt.ylabel('True Positive Rate')\n",
    "plt.xlabel('False Positive Rate')\n",
    "## plt.show()\n",
    "# plt.savefig('./figures/postreviewV4.1/ROC_' + model_name + '.png', dpi=300)"
   ]
  },
  {
   "cell_type": "code",
   "execution_count": 41,
   "metadata": {},
   "outputs": [
    {
     "data": {
      "image/png": "[encoded data removed]",
      "text/plain": [
       "<Figure size 432x288 with 1 Axes>"
      ]
     },
     "metadata": {},
     "output_type": "display_data"
    }
   ],
   "source": [
    "plt.figure()\n",
    "lw = 2\n",
    "plt.plot(fpr, tpr, color='darkorange',\n",
    "         lw=lw, label='ROC curve (area = %0.2f)' % roc_auc)\n",
    "plt.plot([0, 1], [0, 1], color='navy', lw=lw, linestyle='--')\n",
    "plt.xlim([0.0, 1.0])\n",
    "plt.ylim([0.0, 1.05])\n",
    "plt.xlabel('False Positive Rate')\n",
    "plt.ylabel('True Positive Rate')\n",
    "plt.title('Receiver Operating Characteristic')\n",
    "plt.legend(loc=\"lower right\")\n",
    "## plt.show()\n",
    "# plt.savefig('./figures/postreviewV4.1/ROCnice_' + model_name + '.png',dpi=300)"
   ]
  },
  {
   "cell_type": "code",
   "execution_count": null,
   "metadata": {},
   "outputs": [],
   "source": []
  }
 ],
 "metadata": {
  "kernelspec": {
   "display_name": "dl_CE7454",
   "language": "python",
   "name": "dl_ce7454"
  },
  "language_info": {
   "codemirror_mode": {
    "name": "ipython",
    "version": 3
   },
   "file_extension": ".py",
   "mimetype": "text/x-python",
   "name": "python",
   "nbconvert_exporter": "python",
   "pygments_lexer": "ipython3",
   "version": "3.6.6"
  }
 },
 "nbformat": 4,
 "nbformat_minor": 2
}
